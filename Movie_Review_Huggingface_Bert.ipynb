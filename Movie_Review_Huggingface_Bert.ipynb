{
  "cells": [
    {
      "cell_type": "markdown",
      "metadata": {
        "id": "view-in-github",
        "colab_type": "text"
      },
      "source": [
        "<a href=\"https://colab.research.google.com/github/nandir2512/Bert/blob/main/Movie_Review_Huggingface_Bert.ipynb\" target=\"_parent\"><img src=\"https://colab.research.google.com/assets/colab-badge.svg\" alt=\"Open In Colab\"/></a>"
      ]
    },
    {
      "cell_type": "markdown",
      "metadata": {
        "id": "pGhg3F-77BPp"
      },
      "source": [
        "We use the `transformers` package from `HuggingFace` for pre-trained `transformers-based` language models"
      ]
    },
    {
      "cell_type": "code",
      "execution_count": 1,
      "metadata": {
        "colab": {
          "base_uri": "https://localhost:8080/"
        },
        "id": "t-HM4r6a6n0y",
        "outputId": "a69fd824-cd9c-41d4-eaba-ab108aedae09"
      },
      "outputs": [
        {
          "output_type": "stream",
          "name": "stdout",
          "text": [
            "Collecting transformers\n",
            "  Downloading transformers-4.34.0-py3-none-any.whl (7.7 MB)\n",
            "\u001b[2K     \u001b[90m━━━━━━━━━━━━━━━━━━━━━━━━━━━━━━━━━━━━━━━━\u001b[0m \u001b[32m7.7/7.7 MB\u001b[0m \u001b[31m52.4 MB/s\u001b[0m eta \u001b[36m0:00:00\u001b[0m\n",
            "\u001b[?25hRequirement already satisfied: filelock in /usr/local/lib/python3.10/dist-packages (from transformers) (3.12.4)\n",
            "Collecting huggingface-hub<1.0,>=0.16.4 (from transformers)\n",
            "  Downloading huggingface_hub-0.17.3-py3-none-any.whl (295 kB)\n",
            "\u001b[2K     \u001b[90m━━━━━━━━━━━━━━━━━━━━━━━━━━━━━━━━━━━━━━\u001b[0m \u001b[32m295.0/295.0 kB\u001b[0m \u001b[31m29.9 MB/s\u001b[0m eta \u001b[36m0:00:00\u001b[0m\n",
            "\u001b[?25hRequirement already satisfied: numpy>=1.17 in /usr/local/lib/python3.10/dist-packages (from transformers) (1.23.5)\n",
            "Requirement already satisfied: packaging>=20.0 in /usr/local/lib/python3.10/dist-packages (from transformers) (23.1)\n",
            "Requirement already satisfied: pyyaml>=5.1 in /usr/local/lib/python3.10/dist-packages (from transformers) (6.0.1)\n",
            "Requirement already satisfied: regex!=2019.12.17 in /usr/local/lib/python3.10/dist-packages (from transformers) (2023.6.3)\n",
            "Requirement already satisfied: requests in /usr/local/lib/python3.10/dist-packages (from transformers) (2.31.0)\n",
            "Collecting tokenizers<0.15,>=0.14 (from transformers)\n",
            "  Downloading tokenizers-0.14.0-cp310-cp310-manylinux_2_17_x86_64.manylinux2014_x86_64.whl (3.8 MB)\n",
            "\u001b[2K     \u001b[90m━━━━━━━━━━━━━━━━━━━━━━━━━━━━━━━━━━━━━━━━\u001b[0m \u001b[32m3.8/3.8 MB\u001b[0m \u001b[31m93.5 MB/s\u001b[0m eta \u001b[36m0:00:00\u001b[0m\n",
            "\u001b[?25hCollecting safetensors>=0.3.1 (from transformers)\n",
            "  Downloading safetensors-0.3.3-cp310-cp310-manylinux_2_17_x86_64.manylinux2014_x86_64.whl (1.3 MB)\n",
            "\u001b[2K     \u001b[90m━━━━━━━━━━━━━━━━━━━━━━━━━━━━━━━━━━━━━━━━\u001b[0m \u001b[32m1.3/1.3 MB\u001b[0m \u001b[31m65.4 MB/s\u001b[0m eta \u001b[36m0:00:00\u001b[0m\n",
            "\u001b[?25hRequirement already satisfied: tqdm>=4.27 in /usr/local/lib/python3.10/dist-packages (from transformers) (4.66.1)\n",
            "Requirement already satisfied: fsspec in /usr/local/lib/python3.10/dist-packages (from huggingface-hub<1.0,>=0.16.4->transformers) (2023.6.0)\n",
            "Requirement already satisfied: typing-extensions>=3.7.4.3 in /usr/local/lib/python3.10/dist-packages (from huggingface-hub<1.0,>=0.16.4->transformers) (4.5.0)\n",
            "Collecting huggingface-hub<1.0,>=0.16.4 (from transformers)\n",
            "  Downloading huggingface_hub-0.16.4-py3-none-any.whl (268 kB)\n",
            "\u001b[2K     \u001b[90m━━━━━━━━━━━━━━━━━━━━━━━━━━━━━━━━━━━━━━\u001b[0m \u001b[32m268.8/268.8 kB\u001b[0m \u001b[31m27.0 MB/s\u001b[0m eta \u001b[36m0:00:00\u001b[0m\n",
            "\u001b[?25hRequirement already satisfied: charset-normalizer<4,>=2 in /usr/local/lib/python3.10/dist-packages (from requests->transformers) (3.2.0)\n",
            "Requirement already satisfied: idna<4,>=2.5 in /usr/local/lib/python3.10/dist-packages (from requests->transformers) (3.4)\n",
            "Requirement already satisfied: urllib3<3,>=1.21.1 in /usr/local/lib/python3.10/dist-packages (from requests->transformers) (2.0.5)\n",
            "Requirement already satisfied: certifi>=2017.4.17 in /usr/local/lib/python3.10/dist-packages (from requests->transformers) (2023.7.22)\n",
            "Installing collected packages: safetensors, huggingface-hub, tokenizers, transformers\n",
            "Successfully installed huggingface-hub-0.16.4 safetensors-0.3.3 tokenizers-0.14.0 transformers-4.34.0\n"
          ]
        },
        {
          "output_type": "stream",
          "name": "stderr",
          "text": [
            "[nltk_data] Downloading package movie_reviews to /root/nltk_data...\n",
            "[nltk_data]   Unzipping corpora/movie_reviews.zip.\n",
            "[nltk_data] Downloading package stopwords to /root/nltk_data...\n",
            "[nltk_data]   Unzipping corpora/stopwords.zip.\n"
          ]
        },
        {
          "output_type": "execute_result",
          "data": {
            "text/plain": [
              "True"
            ]
          },
          "metadata": {},
          "execution_count": 1
        }
      ],
      "source": [
        "!pip install transformers\n",
        "import nltk\n",
        "nltk.download('movie_reviews')\n",
        "nltk.download('stopwords')"
      ]
    },
    {
      "cell_type": "markdown",
      "metadata": {
        "id": "qPcsKXY27N4l"
      },
      "source": [
        "## Package Import"
      ]
    },
    {
      "cell_type": "code",
      "execution_count": 2,
      "metadata": {
        "id": "AABdkCyu6x1g"
      },
      "outputs": [],
      "source": [
        "import pandas as pd, numpy as np\n",
        "import sklearn\n",
        "import unicodedata\n",
        "import random, re, nltk\n",
        "from nltk.corpus import movie_reviews\n",
        "from sklearn.model_selection import train_test_split\n",
        "import tensorflow as tf\n",
        "import tensorflow.keras as keras\n",
        "import transformers\n",
        "from transformers import BertTokenizer, TFBertForSequenceClassification\n"
      ]
    },
    {
      "cell_type": "code",
      "execution_count": 3,
      "metadata": {
        "colab": {
          "base_uri": "https://localhost:8080/"
        },
        "id": "6NXDhQAv7zPz",
        "outputId": "6d2009b3-b0ab-4213-a50d-c891e65be871"
      },
      "outputs": [
        {
          "output_type": "stream",
          "name": "stdout",
          "text": [
            "2.12.0\n",
            "4.34.0\n"
          ]
        }
      ],
      "source": [
        "print(tf.__version__)\n",
        "print(transformers.__version__)"
      ]
    },
    {
      "cell_type": "code",
      "execution_count": 4,
      "metadata": {
        "colab": {
          "base_uri": "https://localhost:8080/"
        },
        "id": "tzsCH68a796f",
        "outputId": "475637ca-0a3f-47ca-f831-e5a078c0ab6b"
      },
      "outputs": [
        {
          "output_type": "execute_result",
          "data": {
            "text/plain": [
              "<tf.Tensor: shape=(1, 1), dtype=int32, numpy=array([[1]], dtype=int32)>"
            ]
          },
          "metadata": {},
          "execution_count": 4
        }
      ],
      "source": [
        "tf.reshape(tf.constant(1), (-1,1))"
      ]
    },
    {
      "cell_type": "markdown",
      "metadata": {
        "id": "D_-akeAc8T2_"
      },
      "source": [
        "## Data Loading"
      ]
    },
    {
      "cell_type": "code",
      "execution_count": 5,
      "metadata": {
        "id": "tBLjt4ED8RX3"
      },
      "outputs": [],
      "source": [
        "documents = [(' '.join(movie_reviews.words(fileid)), category)\n",
        "            for category in movie_reviews.categories()\n",
        "            for fileid in movie_reviews.fileids(category)]\n",
        "\n",
        "random.shuffle(documents)"
      ]
    },
    {
      "cell_type": "markdown",
      "metadata": {
        "id": "z-9KyzIp854Z"
      },
      "source": [
        "## Train-Test Split"
      ]
    },
    {
      "cell_type": "code",
      "execution_count": 6,
      "metadata": {
        "colab": {
          "base_uri": "https://localhost:8080/"
        },
        "id": "cWsyjAep8tQR",
        "outputId": "ace1473f-77a3-4373-bdc5-29b1259704cf"
      },
      "outputs": [
        {
          "output_type": "stream",
          "name": "stdout",
          "text": [
            "500 100\n"
          ]
        }
      ],
      "source": [
        "train_set, test_set = train_test_split(documents, train_size=0.25, test_size=0.05, random_state=42)\n",
        "\n",
        "print(len(train_set), len(test_set))"
      ]
    },
    {
      "cell_type": "markdown",
      "metadata": {
        "id": "1TmHif_S9I_x"
      },
      "source": [
        "## Define X and y"
      ]
    },
    {
      "cell_type": "code",
      "execution_count": 7,
      "metadata": {
        "id": "Hzkb3dAV9Hb9"
      },
      "outputs": [],
      "source": [
        "X_train_text = [text for (text, label) in train_set]\n",
        "y_train = [1 if label == 'pos' else 0 for text, label in train_set]\n",
        "\n",
        "X_test_text = [text for (text, label) in test_set]\n",
        "y_test = [1 if label == 'pos' else 0 for text, label in test_set]"
      ]
    },
    {
      "cell_type": "markdown",
      "metadata": {
        "id": "W4cEN6PN-EpW"
      },
      "source": [
        "## HuggingFace transformers\n",
        "In transformers, we can access many different versions of pre-trained BERT models:\n",
        "\n",
        "  * BERT-Base, Uncased: 12-layer, 768-hidden, 12-heads, 110M parameters\n",
        "  * BERT-Large, Uncased: 24-layer, 1024-hidden, 16-heads, 340M parameters\n",
        "  * BERT-Base, Cased: 12-layer, 768-hidden, 12-heads , 110M parameters\n",
        "  * BERT-Large, Cased: 24-layer, 1024-hidden, 16-heads, 340M parameters"
      ]
    },
    {
      "cell_type": "markdown",
      "metadata": {
        "id": "WMGtGF-X-amA"
      },
      "source": [
        "# Tokenizers\n",
        "* Each pre-trained model follows a specific mechanism of tokenization.\n",
        "* Therefore, we need to use the model-specific tokenizer for text vectorization.\n",
        "* Specifically, BERT uses the WordPiece tokenization."
      ]
    },
    {
      "cell_type": "code",
      "execution_count": 8,
      "metadata": {
        "id": "vtCy50MW95Zo",
        "colab": {
          "base_uri": "https://localhost:8080/",
          "height": 145,
          "referenced_widgets": [
            "96248195bfd44e65a4c2a40c7dca418d",
            "1a17c063b9ad45d197667d4b9f8fc381",
            "dca2164d3023427abbb97f2e5832881a",
            "38e8f731874c42d9a6271b600b798eef",
            "e539ab565fb740fcba8d8e99470c62e9",
            "d8cade79f4d4450fbf3bc2161fe9b1ea",
            "abb93a4ba9bb4f90822aedf8a6c76bcb",
            "7bc678426422442ea92a67ba2392cc9a",
            "d5547b867952489eb3ca2e896c755fc8",
            "5f28d511ef154c5fb044acfaf53689c1",
            "414f071980da44e89da0585c7569dbc3",
            "44d56ac39e0940fd85137378883575e7",
            "7cee4a21526a464bb7e3a9ed66f1ff93",
            "621c588a44e547c09bb7dcbd16cee97d",
            "4359551da8ab43ed935bcd0ab1b3f04e",
            "471e8673b18640ac8f8385a061b31853",
            "fd628c0ada684df8a025f2b2bcdd566f",
            "0a3eafc69f884a8b8e25e65fa12ed8c7",
            "8534b0c507c54117b423bb617b685d09",
            "77cf4e129f404d9598244c1df3d62e53",
            "50280a05215e470faa4973087ae71b37",
            "9e357fade95545dcbbe5faded49217fa",
            "9ac0e7e411b34ad7b966afd8bb42baa4",
            "c2ae4eb43bd34c66af7d8a20b2c28122",
            "0835f910a3e145bda6bf7d497a520dea",
            "d1ee55e0d4544306af8969677e5fab5b",
            "6217b27724db4a2baa88da7f03e5dc44",
            "c6e71207862f40aa8cd62cafa5bd998a",
            "08b1d150fa3540edbc70cce15fc0f34a",
            "fa36313ebcda43159a352cc8a79dd037",
            "5c4c795a21d04736a33dc00eb855e276",
            "c668754769354e1eadf62381be20bde9",
            "3758c54323bd4d569593f43cb0d5fcc2",
            "d124c3aa6e564b97bdd5a516a22ee89f",
            "0fa3f711bf9248a993e6b74fc8213583",
            "66db5a18ce5b4f32aad6f900e90603a2",
            "d9392fc871b24b74a4c577eaa942455e",
            "c517a5320a644cd5986e123f8dd87976",
            "2d88948dada64c2e8f666ed61f324d8c",
            "c7980eee5d0e4b27b7cd8980b0a38197",
            "40eade521d734a849d0e52fe6af2b91d",
            "72d1a38a3b3c435f88c9fee9f3215c1d",
            "3020ef14776f4a1f8aeb922e7a6ed17a",
            "fa21680bfb68403f8fcfde3fa0a55f65"
          ]
        },
        "outputId": "a2270474-3571-446d-f4fd-50d1b767b726"
      },
      "outputs": [
        {
          "output_type": "display_data",
          "data": {
            "text/plain": [
              "Downloading (…)okenizer_config.json:   0%|          | 0.00/28.0 [00:00<?, ?B/s]"
            ],
            "application/vnd.jupyter.widget-view+json": {
              "version_major": 2,
              "version_minor": 0,
              "model_id": "96248195bfd44e65a4c2a40c7dca418d"
            }
          },
          "metadata": {}
        },
        {
          "output_type": "display_data",
          "data": {
            "text/plain": [
              "Downloading (…)solve/main/vocab.txt:   0%|          | 0.00/232k [00:00<?, ?B/s]"
            ],
            "application/vnd.jupyter.widget-view+json": {
              "version_major": 2,
              "version_minor": 0,
              "model_id": "44d56ac39e0940fd85137378883575e7"
            }
          },
          "metadata": {}
        },
        {
          "output_type": "display_data",
          "data": {
            "text/plain": [
              "Downloading (…)/main/tokenizer.json:   0%|          | 0.00/466k [00:00<?, ?B/s]"
            ],
            "application/vnd.jupyter.widget-view+json": {
              "version_major": 2,
              "version_minor": 0,
              "model_id": "9ac0e7e411b34ad7b966afd8bb42baa4"
            }
          },
          "metadata": {}
        },
        {
          "output_type": "display_data",
          "data": {
            "text/plain": [
              "Downloading (…)lve/main/config.json:   0%|          | 0.00/570 [00:00<?, ?B/s]"
            ],
            "application/vnd.jupyter.widget-view+json": {
              "version_major": 2,
              "version_minor": 0,
              "model_id": "d124c3aa6e564b97bdd5a516a22ee89f"
            }
          },
          "metadata": {}
        }
      ],
      "source": [
        "num_classes =2\n",
        "bert_tokenizer = BertTokenizer.from_pretrained (\"bert-base-uncased\", do_lower_case=True)"
      ]
    },
    {
      "cell_type": "markdown",
      "metadata": {
        "id": "s61QXHd_-1xC"
      },
      "source": [
        "## Intuition of BERT Tokenizer\n",
        "`BertTokenizer.tokenize()` tokenizes sequences into word-pieces."
      ]
    },
    {
      "cell_type": "code",
      "execution_count": 9,
      "metadata": {
        "colab": {
          "base_uri": "https://localhost:8080/"
        },
        "id": "0vGmKHCd-yi5",
        "outputId": "21fddb3e-37f6-4b6c-a218-18e52b979823"
      },
      "outputs": [
        {
          "output_type": "stream",
          "name": "stdout",
          "text": [
            "['don', \"'\", 't', 'like', 'it', '!']\n"
          ]
        }
      ],
      "source": [
        "sent = \"Don't like it!\"\n",
        "tokens = bert_tokenizer.tokenize(sent)\n",
        "print(tokens)"
      ]
    },
    {
      "cell_type": "code",
      "execution_count": 10,
      "metadata": {
        "colab": {
          "base_uri": "https://localhost:8080/"
        },
        "id": "7wBLgq9Z_HZA",
        "outputId": "746d359b-4b76-43c9-c741-8c0a85a58a95"
      },
      "outputs": [
        {
          "output_type": "execute_result",
          "data": {
            "text/plain": [
              "{'input_ids': [101, 2123, 1005, 1056, 2066, 2009, 999, 102], 'token_type_ids': [0, 0, 0, 0, 0, 0, 0, 0], 'attention_mask': [1, 1, 1, 1, 1, 1, 1, 1]}"
            ]
          },
          "metadata": {},
          "execution_count": 10
        }
      ],
      "source": [
        "bert_tokenizer.encode_plus(sent)"
      ]
    },
    {
      "cell_type": "markdown",
      "metadata": {
        "id": "rU1Js-_7AA5s"
      },
      "source": [
        "## BertTokenizer.encode_plus()\n",
        "* We use `BertTokenizer.encode_plus()` to convert sequences into input formats for later BERT-based classifier.\n",
        "* `BertTokenizer.encode_plus()` returns a dictionary of three objects:\n",
        "  * `input_ids`: These correspond to the integers/sequences of the tokens in the input (i.e., the text_to_sequences() in keras).\n",
        "  * `type_token_ids`: These ids indicate the sentence number that tokens belong to. (BERT can take up to two sequences at a time).\n",
        "  * `attention_mask`: Similar to keras Mask layer, this mask indicates with tokens are actual tokens and which are padding tokens so that the attention calculation would ignore the latter."
      ]
    },
    {
      "cell_type": "code",
      "execution_count": 11,
      "metadata": {
        "colab": {
          "base_uri": "https://localhost:8080/"
        },
        "id": "YxVJiovv_ers",
        "outputId": "6fd7e845-2efc-4a09-ddfe-8cccfe73ca83"
      },
      "outputs": [
        {
          "output_type": "execute_result",
          "data": {
            "text/plain": [
              "{'input_ids': [101, 2123, 1005, 1056, 2066, 2009, 999, 102, 0, 0], 'token_type_ids': [0, 0, 0, 0, 0, 0, 0, 0, 0, 0], 'attention_mask': [1, 1, 1, 1, 1, 1, 1, 1, 0, 0]}"
            ]
          },
          "metadata": {},
          "execution_count": 11
        }
      ],
      "source": [
        "tokenized_sequence = bert_tokenizer.encode_plus(sent,\n",
        "                                                add_special_tokens=True,\n",
        "                                                max_length=10,\n",
        "                                                padding='max_length',\n",
        "                                                truncation=True,\n",
        "                                                return_attention_mask=True)\n",
        "\n",
        "tokenized_sequence"
      ]
    },
    {
      "cell_type": "markdown",
      "metadata": {
        "id": "0rlgf0kSAegu"
      },
      "source": [
        "BertTokenizer, when tokenizing the sequences, would add special tokens. Important special tokens include:\n",
        "\n",
        "* [SEP] and [CLS] are special tokens added by the BertTokenizer.\n",
        "* [SEP] is needed when the task required two sequences at a time (e.g., in BERT training).\n",
        "* [CLS], added at the beginning of the input, stand for classifier token. The embedding of this token can be seen as the summary of the inputs, which is ready for downstream classification problems. That is, this pooled output [CLS] can the input of the additional layers on top of the BERT model (i.e., [CLS] can be viewed as the document embeddings).\n",
        "* [CLS] = 101 & [SEP] = 102 token value"
      ]
    },
    {
      "cell_type": "code",
      "execution_count": 12,
      "metadata": {
        "colab": {
          "base_uri": "https://localhost:8080/",
          "height": 35
        },
        "id": "MHTjmaCJAaXH",
        "outputId": "f2cc223f-7dce-4273-e7b3-c65c738932f2"
      },
      "outputs": [
        {
          "output_type": "execute_result",
          "data": {
            "text/plain": [
              "\"[CLS] don ' t like it ! [SEP] [PAD] [PAD]\""
            ],
            "application/vnd.google.colaboratory.intrinsic+json": {
              "type": "string"
            }
          },
          "metadata": {},
          "execution_count": 12
        }
      ],
      "source": [
        "bert_tokenizer.decode(tokenized_sequence['input_ids'],\n",
        "                      clean_up_tokenization_spaces=False)"
      ]
    },
    {
      "cell_type": "markdown",
      "metadata": {
        "id": "icwl201KBCx1"
      },
      "source": [
        "# From Text to BERT Input\n",
        "* When tokenizing, we can determine the `max_length` of each text.\n",
        "* Also, we need to specify `padding` and `truncation` to make sure that the `BertTokenizer` automatically pad/truncate the sequences to uniform lengths."
      ]
    },
    {
      "cell_type": "code",
      "execution_count": 13,
      "metadata": {
        "id": "KM8lOMaEA8rq"
      },
      "outputs": [],
      "source": [
        "y_train = np.array(y_train)\n",
        "y_test = np.array(y_test)"
      ]
    },
    {
      "cell_type": "markdown",
      "metadata": {
        "id": "rdzrgwgiBdY3"
      },
      "source": [
        "Important Arguments of BertTokenizer.encode_plus():\n",
        "\n",
        "* `text:` The sequence or batch of sequences to be encoded. Each sequence can be a string or a list of strings (pretokenized string).\n",
        "* `add_special_tokens:` Whether or not to encode the sequences with the special tokens relative to their model.\n",
        "* `max_length:` Controls the maximum length to use by one of the truncation/padding parameters. (max_length≤512)\n",
        "* `padding:` Whether or not to pad the sequences to the maximum length.\n",
        "* `return_attention_mask`"
      ]
    },
    {
      "cell_type": "code",
      "execution_count": 14,
      "metadata": {
        "id": "h8qr0WlaBc57"
      },
      "outputs": [],
      "source": [
        "def convert_example_to_feature(review):\n",
        "  return bert_tokenizer.encode_plus(review,\n",
        "                                    add_special_token = True,  #add[CLS],[SEP]\n",
        "                                    max_length = 256,   #max length of the text that can go to Bert\n",
        "                                    padding= 'max_length',\n",
        "                                    truncation= True,\n",
        "                                    return_attention_mast =True,  #add attention mask to not focus on pad tokens\n",
        "\n",
        "                                    )"
      ]
    },
    {
      "cell_type": "markdown",
      "metadata": {
        "id": "LhKFvvyZCrBm"
      },
      "source": [
        "Then we prepare inputs for later Bert-based classifier (i.e.TFBertForSequenceClassification)."
      ]
    },
    {
      "cell_type": "code",
      "execution_count": 15,
      "metadata": {
        "id": "EmJYmMbxCi14"
      },
      "outputs": [],
      "source": [
        "# map to the expected input to TFBertForSequenceClassification\n",
        "\n",
        "def map_example_to_dict(input_ids, attention_masks, token_type_ids, label):\n",
        "  return {\n",
        "      \"input_ids\": input_ids,\n",
        "      \"token_type_ids\": token_type_ids,\n",
        "      \"attention_mask\": attention_masks,\n",
        "  }, label\n",
        "\n",
        "def encode_examples(ds):\n",
        "  #prepare list, so that we can build up final TensorFlow dataset from slices.\n",
        "  input_ids_list = []\n",
        "  token_type_ids_list = []\n",
        "  attention_mask_list = []\n",
        "  label_list = []\n",
        "  for review, label in ds:\n",
        "    bert_input = convert_example_to_feature(review)\n",
        "    input_ids_list.append(bert_input['input_ids'])\n",
        "    token_type_ids_list.append(bert_input['token_type_ids'])\n",
        "    attention_mask_list.append(bert_input['attention_mask'])\n",
        "    label_list.append([label])\n",
        "\n",
        "  return tf.data.Dataset.from_tensor_slices((input_ids_list, attention_mask_list,\n",
        "                                              token_type_ids_list, label_list)).map(map_example_to_dict)\n",
        "\n"
      ]
    },
    {
      "cell_type": "code",
      "execution_count": 16,
      "metadata": {
        "id": "G-wN7ewgFXTG"
      },
      "outputs": [],
      "source": [
        "# hyper-parameters\n",
        "batch_size = 8\n"
      ]
    },
    {
      "cell_type": "code",
      "execution_count": 17,
      "metadata": {
        "colab": {
          "base_uri": "https://localhost:8080/"
        },
        "id": "QUgxomwjFeQ1",
        "outputId": "f66066f5-a00f-48fc-d150-07ae8f2368f7"
      },
      "outputs": [
        {
          "output_type": "stream",
          "name": "stderr",
          "text": [
            "Keyword arguments {'add_special_token': True, 'return_attention_mast': True} not recognized.\n",
            "Keyword arguments {'add_special_token': True, 'return_attention_mast': True} not recognized.\n",
            "Keyword arguments {'add_special_token': True, 'return_attention_mast': True} not recognized.\n",
            "Keyword arguments {'add_special_token': True, 'return_attention_mast': True} not recognized.\n",
            "Keyword arguments {'add_special_token': True, 'return_attention_mast': True} not recognized.\n",
            "Keyword arguments {'add_special_token': True, 'return_attention_mast': True} not recognized.\n",
            "Keyword arguments {'add_special_token': True, 'return_attention_mast': True} not recognized.\n",
            "Keyword arguments {'add_special_token': True, 'return_attention_mast': True} not recognized.\n",
            "Keyword arguments {'add_special_token': True, 'return_attention_mast': True} not recognized.\n",
            "Keyword arguments {'add_special_token': True, 'return_attention_mast': True} not recognized.\n",
            "Keyword arguments {'add_special_token': True, 'return_attention_mast': True} not recognized.\n",
            "Keyword arguments {'add_special_token': True, 'return_attention_mast': True} not recognized.\n",
            "Keyword arguments {'add_special_token': True, 'return_attention_mast': True} not recognized.\n",
            "Keyword arguments {'add_special_token': True, 'return_attention_mast': True} not recognized.\n",
            "Keyword arguments {'add_special_token': True, 'return_attention_mast': True} not recognized.\n",
            "Keyword arguments {'add_special_token': True, 'return_attention_mast': True} not recognized.\n",
            "Keyword arguments {'add_special_token': True, 'return_attention_mast': True} not recognized.\n",
            "Keyword arguments {'add_special_token': True, 'return_attention_mast': True} not recognized.\n",
            "Keyword arguments {'add_special_token': True, 'return_attention_mast': True} not recognized.\n",
            "Keyword arguments {'add_special_token': True, 'return_attention_mast': True} not recognized.\n",
            "Keyword arguments {'add_special_token': True, 'return_attention_mast': True} not recognized.\n",
            "Keyword arguments {'add_special_token': True, 'return_attention_mast': True} not recognized.\n",
            "Keyword arguments {'add_special_token': True, 'return_attention_mast': True} not recognized.\n",
            "Keyword arguments {'add_special_token': True, 'return_attention_mast': True} not recognized.\n",
            "Keyword arguments {'add_special_token': True, 'return_attention_mast': True} not recognized.\n",
            "Keyword arguments {'add_special_token': True, 'return_attention_mast': True} not recognized.\n",
            "Keyword arguments {'add_special_token': True, 'return_attention_mast': True} not recognized.\n",
            "Keyword arguments {'add_special_token': True, 'return_attention_mast': True} not recognized.\n",
            "Keyword arguments {'add_special_token': True, 'return_attention_mast': True} not recognized.\n",
            "Keyword arguments {'add_special_token': True, 'return_attention_mast': True} not recognized.\n",
            "Keyword arguments {'add_special_token': True, 'return_attention_mast': True} not recognized.\n",
            "Keyword arguments {'add_special_token': True, 'return_attention_mast': True} not recognized.\n",
            "Keyword arguments {'add_special_token': True, 'return_attention_mast': True} not recognized.\n",
            "Keyword arguments {'add_special_token': True, 'return_attention_mast': True} not recognized.\n",
            "Keyword arguments {'add_special_token': True, 'return_attention_mast': True} not recognized.\n",
            "Keyword arguments {'add_special_token': True, 'return_attention_mast': True} not recognized.\n",
            "Keyword arguments {'add_special_token': True, 'return_attention_mast': True} not recognized.\n",
            "Keyword arguments {'add_special_token': True, 'return_attention_mast': True} not recognized.\n",
            "Keyword arguments {'add_special_token': True, 'return_attention_mast': True} not recognized.\n",
            "Keyword arguments {'add_special_token': True, 'return_attention_mast': True} not recognized.\n",
            "Keyword arguments {'add_special_token': True, 'return_attention_mast': True} not recognized.\n",
            "Keyword arguments {'add_special_token': True, 'return_attention_mast': True} not recognized.\n",
            "Keyword arguments {'add_special_token': True, 'return_attention_mast': True} not recognized.\n",
            "Keyword arguments {'add_special_token': True, 'return_attention_mast': True} not recognized.\n",
            "Keyword arguments {'add_special_token': True, 'return_attention_mast': True} not recognized.\n",
            "Keyword arguments {'add_special_token': True, 'return_attention_mast': True} not recognized.\n",
            "Keyword arguments {'add_special_token': True, 'return_attention_mast': True} not recognized.\n",
            "Keyword arguments {'add_special_token': True, 'return_attention_mast': True} not recognized.\n",
            "Keyword arguments {'add_special_token': True, 'return_attention_mast': True} not recognized.\n",
            "Keyword arguments {'add_special_token': True, 'return_attention_mast': True} not recognized.\n",
            "Keyword arguments {'add_special_token': True, 'return_attention_mast': True} not recognized.\n",
            "Keyword arguments {'add_special_token': True, 'return_attention_mast': True} not recognized.\n",
            "Keyword arguments {'add_special_token': True, 'return_attention_mast': True} not recognized.\n",
            "Keyword arguments {'add_special_token': True, 'return_attention_mast': True} not recognized.\n",
            "Keyword arguments {'add_special_token': True, 'return_attention_mast': True} not recognized.\n",
            "Keyword arguments {'add_special_token': True, 'return_attention_mast': True} not recognized.\n",
            "Keyword arguments {'add_special_token': True, 'return_attention_mast': True} not recognized.\n",
            "Keyword arguments {'add_special_token': True, 'return_attention_mast': True} not recognized.\n",
            "Keyword arguments {'add_special_token': True, 'return_attention_mast': True} not recognized.\n",
            "Keyword arguments {'add_special_token': True, 'return_attention_mast': True} not recognized.\n",
            "Keyword arguments {'add_special_token': True, 'return_attention_mast': True} not recognized.\n",
            "Keyword arguments {'add_special_token': True, 'return_attention_mast': True} not recognized.\n",
            "Keyword arguments {'add_special_token': True, 'return_attention_mast': True} not recognized.\n",
            "Keyword arguments {'add_special_token': True, 'return_attention_mast': True} not recognized.\n",
            "Keyword arguments {'add_special_token': True, 'return_attention_mast': True} not recognized.\n",
            "Keyword arguments {'add_special_token': True, 'return_attention_mast': True} not recognized.\n",
            "Keyword arguments {'add_special_token': True, 'return_attention_mast': True} not recognized.\n",
            "Keyword arguments {'add_special_token': True, 'return_attention_mast': True} not recognized.\n",
            "Keyword arguments {'add_special_token': True, 'return_attention_mast': True} not recognized.\n",
            "Keyword arguments {'add_special_token': True, 'return_attention_mast': True} not recognized.\n",
            "Keyword arguments {'add_special_token': True, 'return_attention_mast': True} not recognized.\n",
            "Keyword arguments {'add_special_token': True, 'return_attention_mast': True} not recognized.\n",
            "Keyword arguments {'add_special_token': True, 'return_attention_mast': True} not recognized.\n",
            "Keyword arguments {'add_special_token': True, 'return_attention_mast': True} not recognized.\n",
            "Keyword arguments {'add_special_token': True, 'return_attention_mast': True} not recognized.\n",
            "Keyword arguments {'add_special_token': True, 'return_attention_mast': True} not recognized.\n",
            "Keyword arguments {'add_special_token': True, 'return_attention_mast': True} not recognized.\n",
            "Keyword arguments {'add_special_token': True, 'return_attention_mast': True} not recognized.\n",
            "Keyword arguments {'add_special_token': True, 'return_attention_mast': True} not recognized.\n",
            "Keyword arguments {'add_special_token': True, 'return_attention_mast': True} not recognized.\n",
            "Keyword arguments {'add_special_token': True, 'return_attention_mast': True} not recognized.\n",
            "Keyword arguments {'add_special_token': True, 'return_attention_mast': True} not recognized.\n",
            "Keyword arguments {'add_special_token': True, 'return_attention_mast': True} not recognized.\n",
            "Keyword arguments {'add_special_token': True, 'return_attention_mast': True} not recognized.\n",
            "Keyword arguments {'add_special_token': True, 'return_attention_mast': True} not recognized.\n",
            "Keyword arguments {'add_special_token': True, 'return_attention_mast': True} not recognized.\n",
            "Keyword arguments {'add_special_token': True, 'return_attention_mast': True} not recognized.\n",
            "Keyword arguments {'add_special_token': True, 'return_attention_mast': True} not recognized.\n",
            "Keyword arguments {'add_special_token': True, 'return_attention_mast': True} not recognized.\n",
            "Keyword arguments {'add_special_token': True, 'return_attention_mast': True} not recognized.\n",
            "Keyword arguments {'add_special_token': True, 'return_attention_mast': True} not recognized.\n",
            "Keyword arguments {'add_special_token': True, 'return_attention_mast': True} not recognized.\n",
            "Keyword arguments {'add_special_token': True, 'return_attention_mast': True} not recognized.\n",
            "Keyword arguments {'add_special_token': True, 'return_attention_mast': True} not recognized.\n",
            "Keyword arguments {'add_special_token': True, 'return_attention_mast': True} not recognized.\n",
            "Keyword arguments {'add_special_token': True, 'return_attention_mast': True} not recognized.\n",
            "Keyword arguments {'add_special_token': True, 'return_attention_mast': True} not recognized.\n",
            "Keyword arguments {'add_special_token': True, 'return_attention_mast': True} not recognized.\n",
            "Keyword arguments {'add_special_token': True, 'return_attention_mast': True} not recognized.\n",
            "Keyword arguments {'add_special_token': True, 'return_attention_mast': True} not recognized.\n",
            "Keyword arguments {'add_special_token': True, 'return_attention_mast': True} not recognized.\n",
            "Keyword arguments {'add_special_token': True, 'return_attention_mast': True} not recognized.\n",
            "Keyword arguments {'add_special_token': True, 'return_attention_mast': True} not recognized.\n",
            "Keyword arguments {'add_special_token': True, 'return_attention_mast': True} not recognized.\n",
            "Keyword arguments {'add_special_token': True, 'return_attention_mast': True} not recognized.\n",
            "Keyword arguments {'add_special_token': True, 'return_attention_mast': True} not recognized.\n",
            "Keyword arguments {'add_special_token': True, 'return_attention_mast': True} not recognized.\n",
            "Keyword arguments {'add_special_token': True, 'return_attention_mast': True} not recognized.\n",
            "Keyword arguments {'add_special_token': True, 'return_attention_mast': True} not recognized.\n",
            "Keyword arguments {'add_special_token': True, 'return_attention_mast': True} not recognized.\n",
            "Keyword arguments {'add_special_token': True, 'return_attention_mast': True} not recognized.\n",
            "Keyword arguments {'add_special_token': True, 'return_attention_mast': True} not recognized.\n",
            "Keyword arguments {'add_special_token': True, 'return_attention_mast': True} not recognized.\n",
            "Keyword arguments {'add_special_token': True, 'return_attention_mast': True} not recognized.\n",
            "Keyword arguments {'add_special_token': True, 'return_attention_mast': True} not recognized.\n",
            "Keyword arguments {'add_special_token': True, 'return_attention_mast': True} not recognized.\n",
            "Keyword arguments {'add_special_token': True, 'return_attention_mast': True} not recognized.\n",
            "Keyword arguments {'add_special_token': True, 'return_attention_mast': True} not recognized.\n",
            "Keyword arguments {'add_special_token': True, 'return_attention_mast': True} not recognized.\n",
            "Keyword arguments {'add_special_token': True, 'return_attention_mast': True} not recognized.\n",
            "Keyword arguments {'add_special_token': True, 'return_attention_mast': True} not recognized.\n",
            "Keyword arguments {'add_special_token': True, 'return_attention_mast': True} not recognized.\n",
            "Keyword arguments {'add_special_token': True, 'return_attention_mast': True} not recognized.\n",
            "Keyword arguments {'add_special_token': True, 'return_attention_mast': True} not recognized.\n",
            "Keyword arguments {'add_special_token': True, 'return_attention_mast': True} not recognized.\n",
            "Keyword arguments {'add_special_token': True, 'return_attention_mast': True} not recognized.\n",
            "Keyword arguments {'add_special_token': True, 'return_attention_mast': True} not recognized.\n",
            "Keyword arguments {'add_special_token': True, 'return_attention_mast': True} not recognized.\n",
            "Keyword arguments {'add_special_token': True, 'return_attention_mast': True} not recognized.\n",
            "Keyword arguments {'add_special_token': True, 'return_attention_mast': True} not recognized.\n",
            "Keyword arguments {'add_special_token': True, 'return_attention_mast': True} not recognized.\n",
            "Keyword arguments {'add_special_token': True, 'return_attention_mast': True} not recognized.\n",
            "Keyword arguments {'add_special_token': True, 'return_attention_mast': True} not recognized.\n",
            "Keyword arguments {'add_special_token': True, 'return_attention_mast': True} not recognized.\n",
            "Keyword arguments {'add_special_token': True, 'return_attention_mast': True} not recognized.\n",
            "Keyword arguments {'add_special_token': True, 'return_attention_mast': True} not recognized.\n",
            "Keyword arguments {'add_special_token': True, 'return_attention_mast': True} not recognized.\n",
            "Keyword arguments {'add_special_token': True, 'return_attention_mast': True} not recognized.\n",
            "Keyword arguments {'add_special_token': True, 'return_attention_mast': True} not recognized.\n",
            "Keyword arguments {'add_special_token': True, 'return_attention_mast': True} not recognized.\n",
            "Keyword arguments {'add_special_token': True, 'return_attention_mast': True} not recognized.\n",
            "Keyword arguments {'add_special_token': True, 'return_attention_mast': True} not recognized.\n",
            "Keyword arguments {'add_special_token': True, 'return_attention_mast': True} not recognized.\n",
            "Keyword arguments {'add_special_token': True, 'return_attention_mast': True} not recognized.\n",
            "Keyword arguments {'add_special_token': True, 'return_attention_mast': True} not recognized.\n",
            "Keyword arguments {'add_special_token': True, 'return_attention_mast': True} not recognized.\n",
            "Keyword arguments {'add_special_token': True, 'return_attention_mast': True} not recognized.\n",
            "Keyword arguments {'add_special_token': True, 'return_attention_mast': True} not recognized.\n",
            "Keyword arguments {'add_special_token': True, 'return_attention_mast': True} not recognized.\n",
            "Keyword arguments {'add_special_token': True, 'return_attention_mast': True} not recognized.\n",
            "Keyword arguments {'add_special_token': True, 'return_attention_mast': True} not recognized.\n",
            "Keyword arguments {'add_special_token': True, 'return_attention_mast': True} not recognized.\n",
            "Keyword arguments {'add_special_token': True, 'return_attention_mast': True} not recognized.\n",
            "Keyword arguments {'add_special_token': True, 'return_attention_mast': True} not recognized.\n",
            "Keyword arguments {'add_special_token': True, 'return_attention_mast': True} not recognized.\n",
            "Keyword arguments {'add_special_token': True, 'return_attention_mast': True} not recognized.\n",
            "Keyword arguments {'add_special_token': True, 'return_attention_mast': True} not recognized.\n",
            "Keyword arguments {'add_special_token': True, 'return_attention_mast': True} not recognized.\n",
            "Keyword arguments {'add_special_token': True, 'return_attention_mast': True} not recognized.\n",
            "Keyword arguments {'add_special_token': True, 'return_attention_mast': True} not recognized.\n",
            "Keyword arguments {'add_special_token': True, 'return_attention_mast': True} not recognized.\n",
            "Keyword arguments {'add_special_token': True, 'return_attention_mast': True} not recognized.\n",
            "Keyword arguments {'add_special_token': True, 'return_attention_mast': True} not recognized.\n",
            "Keyword arguments {'add_special_token': True, 'return_attention_mast': True} not recognized.\n",
            "Keyword arguments {'add_special_token': True, 'return_attention_mast': True} not recognized.\n",
            "Keyword arguments {'add_special_token': True, 'return_attention_mast': True} not recognized.\n",
            "Keyword arguments {'add_special_token': True, 'return_attention_mast': True} not recognized.\n",
            "Keyword arguments {'add_special_token': True, 'return_attention_mast': True} not recognized.\n",
            "Keyword arguments {'add_special_token': True, 'return_attention_mast': True} not recognized.\n",
            "Keyword arguments {'add_special_token': True, 'return_attention_mast': True} not recognized.\n",
            "Keyword arguments {'add_special_token': True, 'return_attention_mast': True} not recognized.\n",
            "Keyword arguments {'add_special_token': True, 'return_attention_mast': True} not recognized.\n",
            "Keyword arguments {'add_special_token': True, 'return_attention_mast': True} not recognized.\n",
            "Keyword arguments {'add_special_token': True, 'return_attention_mast': True} not recognized.\n",
            "Keyword arguments {'add_special_token': True, 'return_attention_mast': True} not recognized.\n",
            "Keyword arguments {'add_special_token': True, 'return_attention_mast': True} not recognized.\n",
            "Keyword arguments {'add_special_token': True, 'return_attention_mast': True} not recognized.\n",
            "Keyword arguments {'add_special_token': True, 'return_attention_mast': True} not recognized.\n",
            "Keyword arguments {'add_special_token': True, 'return_attention_mast': True} not recognized.\n",
            "Keyword arguments {'add_special_token': True, 'return_attention_mast': True} not recognized.\n",
            "Keyword arguments {'add_special_token': True, 'return_attention_mast': True} not recognized.\n",
            "Keyword arguments {'add_special_token': True, 'return_attention_mast': True} not recognized.\n",
            "Keyword arguments {'add_special_token': True, 'return_attention_mast': True} not recognized.\n",
            "Keyword arguments {'add_special_token': True, 'return_attention_mast': True} not recognized.\n",
            "Keyword arguments {'add_special_token': True, 'return_attention_mast': True} not recognized.\n",
            "Keyword arguments {'add_special_token': True, 'return_attention_mast': True} not recognized.\n",
            "Keyword arguments {'add_special_token': True, 'return_attention_mast': True} not recognized.\n",
            "Keyword arguments {'add_special_token': True, 'return_attention_mast': True} not recognized.\n",
            "Keyword arguments {'add_special_token': True, 'return_attention_mast': True} not recognized.\n",
            "Keyword arguments {'add_special_token': True, 'return_attention_mast': True} not recognized.\n",
            "Keyword arguments {'add_special_token': True, 'return_attention_mast': True} not recognized.\n",
            "Keyword arguments {'add_special_token': True, 'return_attention_mast': True} not recognized.\n",
            "Keyword arguments {'add_special_token': True, 'return_attention_mast': True} not recognized.\n",
            "Keyword arguments {'add_special_token': True, 'return_attention_mast': True} not recognized.\n",
            "Keyword arguments {'add_special_token': True, 'return_attention_mast': True} not recognized.\n",
            "Keyword arguments {'add_special_token': True, 'return_attention_mast': True} not recognized.\n",
            "Keyword arguments {'add_special_token': True, 'return_attention_mast': True} not recognized.\n",
            "Keyword arguments {'add_special_token': True, 'return_attention_mast': True} not recognized.\n",
            "Keyword arguments {'add_special_token': True, 'return_attention_mast': True} not recognized.\n",
            "Keyword arguments {'add_special_token': True, 'return_attention_mast': True} not recognized.\n",
            "Keyword arguments {'add_special_token': True, 'return_attention_mast': True} not recognized.\n",
            "Keyword arguments {'add_special_token': True, 'return_attention_mast': True} not recognized.\n",
            "Keyword arguments {'add_special_token': True, 'return_attention_mast': True} not recognized.\n",
            "Keyword arguments {'add_special_token': True, 'return_attention_mast': True} not recognized.\n",
            "Keyword arguments {'add_special_token': True, 'return_attention_mast': True} not recognized.\n",
            "Keyword arguments {'add_special_token': True, 'return_attention_mast': True} not recognized.\n",
            "Keyword arguments {'add_special_token': True, 'return_attention_mast': True} not recognized.\n",
            "Keyword arguments {'add_special_token': True, 'return_attention_mast': True} not recognized.\n",
            "Keyword arguments {'add_special_token': True, 'return_attention_mast': True} not recognized.\n",
            "Keyword arguments {'add_special_token': True, 'return_attention_mast': True} not recognized.\n",
            "Keyword arguments {'add_special_token': True, 'return_attention_mast': True} not recognized.\n",
            "Keyword arguments {'add_special_token': True, 'return_attention_mast': True} not recognized.\n",
            "Keyword arguments {'add_special_token': True, 'return_attention_mast': True} not recognized.\n",
            "Keyword arguments {'add_special_token': True, 'return_attention_mast': True} not recognized.\n",
            "Keyword arguments {'add_special_token': True, 'return_attention_mast': True} not recognized.\n",
            "Keyword arguments {'add_special_token': True, 'return_attention_mast': True} not recognized.\n",
            "Keyword arguments {'add_special_token': True, 'return_attention_mast': True} not recognized.\n",
            "Keyword arguments {'add_special_token': True, 'return_attention_mast': True} not recognized.\n",
            "Keyword arguments {'add_special_token': True, 'return_attention_mast': True} not recognized.\n",
            "Keyword arguments {'add_special_token': True, 'return_attention_mast': True} not recognized.\n",
            "Keyword arguments {'add_special_token': True, 'return_attention_mast': True} not recognized.\n",
            "Keyword arguments {'add_special_token': True, 'return_attention_mast': True} not recognized.\n",
            "Keyword arguments {'add_special_token': True, 'return_attention_mast': True} not recognized.\n",
            "Keyword arguments {'add_special_token': True, 'return_attention_mast': True} not recognized.\n",
            "Keyword arguments {'add_special_token': True, 'return_attention_mast': True} not recognized.\n",
            "Keyword arguments {'add_special_token': True, 'return_attention_mast': True} not recognized.\n",
            "Keyword arguments {'add_special_token': True, 'return_attention_mast': True} not recognized.\n",
            "Keyword arguments {'add_special_token': True, 'return_attention_mast': True} not recognized.\n",
            "Keyword arguments {'add_special_token': True, 'return_attention_mast': True} not recognized.\n",
            "Keyword arguments {'add_special_token': True, 'return_attention_mast': True} not recognized.\n",
            "Keyword arguments {'add_special_token': True, 'return_attention_mast': True} not recognized.\n",
            "Keyword arguments {'add_special_token': True, 'return_attention_mast': True} not recognized.\n",
            "Keyword arguments {'add_special_token': True, 'return_attention_mast': True} not recognized.\n",
            "Keyword arguments {'add_special_token': True, 'return_attention_mast': True} not recognized.\n",
            "Keyword arguments {'add_special_token': True, 'return_attention_mast': True} not recognized.\n",
            "Keyword arguments {'add_special_token': True, 'return_attention_mast': True} not recognized.\n",
            "Keyword arguments {'add_special_token': True, 'return_attention_mast': True} not recognized.\n",
            "Keyword arguments {'add_special_token': True, 'return_attention_mast': True} not recognized.\n",
            "Keyword arguments {'add_special_token': True, 'return_attention_mast': True} not recognized.\n",
            "Keyword arguments {'add_special_token': True, 'return_attention_mast': True} not recognized.\n",
            "Keyword arguments {'add_special_token': True, 'return_attention_mast': True} not recognized.\n",
            "Keyword arguments {'add_special_token': True, 'return_attention_mast': True} not recognized.\n",
            "Keyword arguments {'add_special_token': True, 'return_attention_mast': True} not recognized.\n",
            "Keyword arguments {'add_special_token': True, 'return_attention_mast': True} not recognized.\n",
            "Keyword arguments {'add_special_token': True, 'return_attention_mast': True} not recognized.\n",
            "Keyword arguments {'add_special_token': True, 'return_attention_mast': True} not recognized.\n",
            "Keyword arguments {'add_special_token': True, 'return_attention_mast': True} not recognized.\n",
            "Keyword arguments {'add_special_token': True, 'return_attention_mast': True} not recognized.\n",
            "Keyword arguments {'add_special_token': True, 'return_attention_mast': True} not recognized.\n",
            "Keyword arguments {'add_special_token': True, 'return_attention_mast': True} not recognized.\n",
            "Keyword arguments {'add_special_token': True, 'return_attention_mast': True} not recognized.\n",
            "Keyword arguments {'add_special_token': True, 'return_attention_mast': True} not recognized.\n",
            "Keyword arguments {'add_special_token': True, 'return_attention_mast': True} not recognized.\n",
            "Keyword arguments {'add_special_token': True, 'return_attention_mast': True} not recognized.\n",
            "Keyword arguments {'add_special_token': True, 'return_attention_mast': True} not recognized.\n",
            "Keyword arguments {'add_special_token': True, 'return_attention_mast': True} not recognized.\n",
            "Keyword arguments {'add_special_token': True, 'return_attention_mast': True} not recognized.\n",
            "Keyword arguments {'add_special_token': True, 'return_attention_mast': True} not recognized.\n",
            "Keyword arguments {'add_special_token': True, 'return_attention_mast': True} not recognized.\n",
            "Keyword arguments {'add_special_token': True, 'return_attention_mast': True} not recognized.\n",
            "Keyword arguments {'add_special_token': True, 'return_attention_mast': True} not recognized.\n",
            "Keyword arguments {'add_special_token': True, 'return_attention_mast': True} not recognized.\n",
            "Keyword arguments {'add_special_token': True, 'return_attention_mast': True} not recognized.\n",
            "Keyword arguments {'add_special_token': True, 'return_attention_mast': True} not recognized.\n",
            "Keyword arguments {'add_special_token': True, 'return_attention_mast': True} not recognized.\n",
            "Keyword arguments {'add_special_token': True, 'return_attention_mast': True} not recognized.\n",
            "Keyword arguments {'add_special_token': True, 'return_attention_mast': True} not recognized.\n",
            "Keyword arguments {'add_special_token': True, 'return_attention_mast': True} not recognized.\n",
            "Keyword arguments {'add_special_token': True, 'return_attention_mast': True} not recognized.\n",
            "Keyword arguments {'add_special_token': True, 'return_attention_mast': True} not recognized.\n",
            "Keyword arguments {'add_special_token': True, 'return_attention_mast': True} not recognized.\n",
            "Keyword arguments {'add_special_token': True, 'return_attention_mast': True} not recognized.\n",
            "Keyword arguments {'add_special_token': True, 'return_attention_mast': True} not recognized.\n",
            "Keyword arguments {'add_special_token': True, 'return_attention_mast': True} not recognized.\n",
            "Keyword arguments {'add_special_token': True, 'return_attention_mast': True} not recognized.\n",
            "Keyword arguments {'add_special_token': True, 'return_attention_mast': True} not recognized.\n",
            "Keyword arguments {'add_special_token': True, 'return_attention_mast': True} not recognized.\n",
            "Keyword arguments {'add_special_token': True, 'return_attention_mast': True} not recognized.\n",
            "Keyword arguments {'add_special_token': True, 'return_attention_mast': True} not recognized.\n",
            "Keyword arguments {'add_special_token': True, 'return_attention_mast': True} not recognized.\n",
            "Keyword arguments {'add_special_token': True, 'return_attention_mast': True} not recognized.\n",
            "Keyword arguments {'add_special_token': True, 'return_attention_mast': True} not recognized.\n",
            "Keyword arguments {'add_special_token': True, 'return_attention_mast': True} not recognized.\n",
            "Keyword arguments {'add_special_token': True, 'return_attention_mast': True} not recognized.\n",
            "Keyword arguments {'add_special_token': True, 'return_attention_mast': True} not recognized.\n",
            "Keyword arguments {'add_special_token': True, 'return_attention_mast': True} not recognized.\n",
            "Keyword arguments {'add_special_token': True, 'return_attention_mast': True} not recognized.\n",
            "Keyword arguments {'add_special_token': True, 'return_attention_mast': True} not recognized.\n",
            "Keyword arguments {'add_special_token': True, 'return_attention_mast': True} not recognized.\n",
            "Keyword arguments {'add_special_token': True, 'return_attention_mast': True} not recognized.\n",
            "Keyword arguments {'add_special_token': True, 'return_attention_mast': True} not recognized.\n",
            "Keyword arguments {'add_special_token': True, 'return_attention_mast': True} not recognized.\n",
            "Keyword arguments {'add_special_token': True, 'return_attention_mast': True} not recognized.\n",
            "Keyword arguments {'add_special_token': True, 'return_attention_mast': True} not recognized.\n",
            "Keyword arguments {'add_special_token': True, 'return_attention_mast': True} not recognized.\n",
            "Keyword arguments {'add_special_token': True, 'return_attention_mast': True} not recognized.\n",
            "Keyword arguments {'add_special_token': True, 'return_attention_mast': True} not recognized.\n",
            "Keyword arguments {'add_special_token': True, 'return_attention_mast': True} not recognized.\n",
            "Keyword arguments {'add_special_token': True, 'return_attention_mast': True} not recognized.\n",
            "Keyword arguments {'add_special_token': True, 'return_attention_mast': True} not recognized.\n",
            "Keyword arguments {'add_special_token': True, 'return_attention_mast': True} not recognized.\n",
            "Keyword arguments {'add_special_token': True, 'return_attention_mast': True} not recognized.\n",
            "Keyword arguments {'add_special_token': True, 'return_attention_mast': True} not recognized.\n",
            "Keyword arguments {'add_special_token': True, 'return_attention_mast': True} not recognized.\n",
            "Keyword arguments {'add_special_token': True, 'return_attention_mast': True} not recognized.\n",
            "Keyword arguments {'add_special_token': True, 'return_attention_mast': True} not recognized.\n",
            "Keyword arguments {'add_special_token': True, 'return_attention_mast': True} not recognized.\n",
            "Keyword arguments {'add_special_token': True, 'return_attention_mast': True} not recognized.\n",
            "Keyword arguments {'add_special_token': True, 'return_attention_mast': True} not recognized.\n",
            "Keyword arguments {'add_special_token': True, 'return_attention_mast': True} not recognized.\n",
            "Keyword arguments {'add_special_token': True, 'return_attention_mast': True} not recognized.\n",
            "Keyword arguments {'add_special_token': True, 'return_attention_mast': True} not recognized.\n",
            "Keyword arguments {'add_special_token': True, 'return_attention_mast': True} not recognized.\n",
            "Keyword arguments {'add_special_token': True, 'return_attention_mast': True} not recognized.\n",
            "Keyword arguments {'add_special_token': True, 'return_attention_mast': True} not recognized.\n",
            "Keyword arguments {'add_special_token': True, 'return_attention_mast': True} not recognized.\n",
            "Keyword arguments {'add_special_token': True, 'return_attention_mast': True} not recognized.\n",
            "Keyword arguments {'add_special_token': True, 'return_attention_mast': True} not recognized.\n",
            "Keyword arguments {'add_special_token': True, 'return_attention_mast': True} not recognized.\n",
            "Keyword arguments {'add_special_token': True, 'return_attention_mast': True} not recognized.\n",
            "Keyword arguments {'add_special_token': True, 'return_attention_mast': True} not recognized.\n",
            "Keyword arguments {'add_special_token': True, 'return_attention_mast': True} not recognized.\n",
            "Keyword arguments {'add_special_token': True, 'return_attention_mast': True} not recognized.\n",
            "Keyword arguments {'add_special_token': True, 'return_attention_mast': True} not recognized.\n",
            "Keyword arguments {'add_special_token': True, 'return_attention_mast': True} not recognized.\n",
            "Keyword arguments {'add_special_token': True, 'return_attention_mast': True} not recognized.\n",
            "Keyword arguments {'add_special_token': True, 'return_attention_mast': True} not recognized.\n",
            "Keyword arguments {'add_special_token': True, 'return_attention_mast': True} not recognized.\n",
            "Keyword arguments {'add_special_token': True, 'return_attention_mast': True} not recognized.\n",
            "Keyword arguments {'add_special_token': True, 'return_attention_mast': True} not recognized.\n",
            "Keyword arguments {'add_special_token': True, 'return_attention_mast': True} not recognized.\n",
            "Keyword arguments {'add_special_token': True, 'return_attention_mast': True} not recognized.\n",
            "Keyword arguments {'add_special_token': True, 'return_attention_mast': True} not recognized.\n",
            "Keyword arguments {'add_special_token': True, 'return_attention_mast': True} not recognized.\n",
            "Keyword arguments {'add_special_token': True, 'return_attention_mast': True} not recognized.\n",
            "Keyword arguments {'add_special_token': True, 'return_attention_mast': True} not recognized.\n",
            "Keyword arguments {'add_special_token': True, 'return_attention_mast': True} not recognized.\n",
            "Keyword arguments {'add_special_token': True, 'return_attention_mast': True} not recognized.\n",
            "Keyword arguments {'add_special_token': True, 'return_attention_mast': True} not recognized.\n",
            "Keyword arguments {'add_special_token': True, 'return_attention_mast': True} not recognized.\n",
            "Keyword arguments {'add_special_token': True, 'return_attention_mast': True} not recognized.\n",
            "Keyword arguments {'add_special_token': True, 'return_attention_mast': True} not recognized.\n",
            "Keyword arguments {'add_special_token': True, 'return_attention_mast': True} not recognized.\n",
            "Keyword arguments {'add_special_token': True, 'return_attention_mast': True} not recognized.\n",
            "Keyword arguments {'add_special_token': True, 'return_attention_mast': True} not recognized.\n",
            "Keyword arguments {'add_special_token': True, 'return_attention_mast': True} not recognized.\n",
            "Keyword arguments {'add_special_token': True, 'return_attention_mast': True} not recognized.\n",
            "Keyword arguments {'add_special_token': True, 'return_attention_mast': True} not recognized.\n",
            "Keyword arguments {'add_special_token': True, 'return_attention_mast': True} not recognized.\n",
            "Keyword arguments {'add_special_token': True, 'return_attention_mast': True} not recognized.\n",
            "Keyword arguments {'add_special_token': True, 'return_attention_mast': True} not recognized.\n",
            "Keyword arguments {'add_special_token': True, 'return_attention_mast': True} not recognized.\n",
            "Keyword arguments {'add_special_token': True, 'return_attention_mast': True} not recognized.\n",
            "Keyword arguments {'add_special_token': True, 'return_attention_mast': True} not recognized.\n",
            "Keyword arguments {'add_special_token': True, 'return_attention_mast': True} not recognized.\n",
            "Keyword arguments {'add_special_token': True, 'return_attention_mast': True} not recognized.\n",
            "Keyword arguments {'add_special_token': True, 'return_attention_mast': True} not recognized.\n",
            "Keyword arguments {'add_special_token': True, 'return_attention_mast': True} not recognized.\n",
            "Keyword arguments {'add_special_token': True, 'return_attention_mast': True} not recognized.\n",
            "Keyword arguments {'add_special_token': True, 'return_attention_mast': True} not recognized.\n",
            "Keyword arguments {'add_special_token': True, 'return_attention_mast': True} not recognized.\n",
            "Keyword arguments {'add_special_token': True, 'return_attention_mast': True} not recognized.\n",
            "Keyword arguments {'add_special_token': True, 'return_attention_mast': True} not recognized.\n",
            "Keyword arguments {'add_special_token': True, 'return_attention_mast': True} not recognized.\n",
            "Keyword arguments {'add_special_token': True, 'return_attention_mast': True} not recognized.\n",
            "Keyword arguments {'add_special_token': True, 'return_attention_mast': True} not recognized.\n",
            "Keyword arguments {'add_special_token': True, 'return_attention_mast': True} not recognized.\n",
            "Keyword arguments {'add_special_token': True, 'return_attention_mast': True} not recognized.\n",
            "Keyword arguments {'add_special_token': True, 'return_attention_mast': True} not recognized.\n",
            "Keyword arguments {'add_special_token': True, 'return_attention_mast': True} not recognized.\n",
            "Keyword arguments {'add_special_token': True, 'return_attention_mast': True} not recognized.\n",
            "Keyword arguments {'add_special_token': True, 'return_attention_mast': True} not recognized.\n",
            "Keyword arguments {'add_special_token': True, 'return_attention_mast': True} not recognized.\n",
            "Keyword arguments {'add_special_token': True, 'return_attention_mast': True} not recognized.\n",
            "Keyword arguments {'add_special_token': True, 'return_attention_mast': True} not recognized.\n",
            "Keyword arguments {'add_special_token': True, 'return_attention_mast': True} not recognized.\n",
            "Keyword arguments {'add_special_token': True, 'return_attention_mast': True} not recognized.\n",
            "Keyword arguments {'add_special_token': True, 'return_attention_mast': True} not recognized.\n",
            "Keyword arguments {'add_special_token': True, 'return_attention_mast': True} not recognized.\n",
            "Keyword arguments {'add_special_token': True, 'return_attention_mast': True} not recognized.\n",
            "Keyword arguments {'add_special_token': True, 'return_attention_mast': True} not recognized.\n",
            "Keyword arguments {'add_special_token': True, 'return_attention_mast': True} not recognized.\n",
            "Keyword arguments {'add_special_token': True, 'return_attention_mast': True} not recognized.\n",
            "Keyword arguments {'add_special_token': True, 'return_attention_mast': True} not recognized.\n",
            "Keyword arguments {'add_special_token': True, 'return_attention_mast': True} not recognized.\n",
            "Keyword arguments {'add_special_token': True, 'return_attention_mast': True} not recognized.\n",
            "Keyword arguments {'add_special_token': True, 'return_attention_mast': True} not recognized.\n",
            "Keyword arguments {'add_special_token': True, 'return_attention_mast': True} not recognized.\n",
            "Keyword arguments {'add_special_token': True, 'return_attention_mast': True} not recognized.\n",
            "Keyword arguments {'add_special_token': True, 'return_attention_mast': True} not recognized.\n",
            "Keyword arguments {'add_special_token': True, 'return_attention_mast': True} not recognized.\n",
            "Keyword arguments {'add_special_token': True, 'return_attention_mast': True} not recognized.\n",
            "Keyword arguments {'add_special_token': True, 'return_attention_mast': True} not recognized.\n",
            "Keyword arguments {'add_special_token': True, 'return_attention_mast': True} not recognized.\n",
            "Keyword arguments {'add_special_token': True, 'return_attention_mast': True} not recognized.\n",
            "Keyword arguments {'add_special_token': True, 'return_attention_mast': True} not recognized.\n",
            "Keyword arguments {'add_special_token': True, 'return_attention_mast': True} not recognized.\n",
            "Keyword arguments {'add_special_token': True, 'return_attention_mast': True} not recognized.\n",
            "Keyword arguments {'add_special_token': True, 'return_attention_mast': True} not recognized.\n",
            "Keyword arguments {'add_special_token': True, 'return_attention_mast': True} not recognized.\n",
            "Keyword arguments {'add_special_token': True, 'return_attention_mast': True} not recognized.\n",
            "Keyword arguments {'add_special_token': True, 'return_attention_mast': True} not recognized.\n",
            "Keyword arguments {'add_special_token': True, 'return_attention_mast': True} not recognized.\n",
            "Keyword arguments {'add_special_token': True, 'return_attention_mast': True} not recognized.\n",
            "Keyword arguments {'add_special_token': True, 'return_attention_mast': True} not recognized.\n",
            "Keyword arguments {'add_special_token': True, 'return_attention_mast': True} not recognized.\n",
            "Keyword arguments {'add_special_token': True, 'return_attention_mast': True} not recognized.\n",
            "Keyword arguments {'add_special_token': True, 'return_attention_mast': True} not recognized.\n",
            "Keyword arguments {'add_special_token': True, 'return_attention_mast': True} not recognized.\n",
            "Keyword arguments {'add_special_token': True, 'return_attention_mast': True} not recognized.\n",
            "Keyword arguments {'add_special_token': True, 'return_attention_mast': True} not recognized.\n",
            "Keyword arguments {'add_special_token': True, 'return_attention_mast': True} not recognized.\n",
            "Keyword arguments {'add_special_token': True, 'return_attention_mast': True} not recognized.\n",
            "Keyword arguments {'add_special_token': True, 'return_attention_mast': True} not recognized.\n",
            "Keyword arguments {'add_special_token': True, 'return_attention_mast': True} not recognized.\n",
            "Keyword arguments {'add_special_token': True, 'return_attention_mast': True} not recognized.\n",
            "Keyword arguments {'add_special_token': True, 'return_attention_mast': True} not recognized.\n",
            "Keyword arguments {'add_special_token': True, 'return_attention_mast': True} not recognized.\n",
            "Keyword arguments {'add_special_token': True, 'return_attention_mast': True} not recognized.\n",
            "Keyword arguments {'add_special_token': True, 'return_attention_mast': True} not recognized.\n",
            "Keyword arguments {'add_special_token': True, 'return_attention_mast': True} not recognized.\n",
            "Keyword arguments {'add_special_token': True, 'return_attention_mast': True} not recognized.\n",
            "Keyword arguments {'add_special_token': True, 'return_attention_mast': True} not recognized.\n",
            "Keyword arguments {'add_special_token': True, 'return_attention_mast': True} not recognized.\n",
            "Keyword arguments {'add_special_token': True, 'return_attention_mast': True} not recognized.\n",
            "Keyword arguments {'add_special_token': True, 'return_attention_mast': True} not recognized.\n",
            "Keyword arguments {'add_special_token': True, 'return_attention_mast': True} not recognized.\n",
            "Keyword arguments {'add_special_token': True, 'return_attention_mast': True} not recognized.\n",
            "Keyword arguments {'add_special_token': True, 'return_attention_mast': True} not recognized.\n",
            "Keyword arguments {'add_special_token': True, 'return_attention_mast': True} not recognized.\n",
            "Keyword arguments {'add_special_token': True, 'return_attention_mast': True} not recognized.\n",
            "Keyword arguments {'add_special_token': True, 'return_attention_mast': True} not recognized.\n",
            "Keyword arguments {'add_special_token': True, 'return_attention_mast': True} not recognized.\n",
            "Keyword arguments {'add_special_token': True, 'return_attention_mast': True} not recognized.\n",
            "Keyword arguments {'add_special_token': True, 'return_attention_mast': True} not recognized.\n",
            "Keyword arguments {'add_special_token': True, 'return_attention_mast': True} not recognized.\n",
            "Keyword arguments {'add_special_token': True, 'return_attention_mast': True} not recognized.\n",
            "Keyword arguments {'add_special_token': True, 'return_attention_mast': True} not recognized.\n",
            "Keyword arguments {'add_special_token': True, 'return_attention_mast': True} not recognized.\n",
            "Keyword arguments {'add_special_token': True, 'return_attention_mast': True} not recognized.\n",
            "Keyword arguments {'add_special_token': True, 'return_attention_mast': True} not recognized.\n",
            "Keyword arguments {'add_special_token': True, 'return_attention_mast': True} not recognized.\n",
            "Keyword arguments {'add_special_token': True, 'return_attention_mast': True} not recognized.\n",
            "Keyword arguments {'add_special_token': True, 'return_attention_mast': True} not recognized.\n",
            "Keyword arguments {'add_special_token': True, 'return_attention_mast': True} not recognized.\n",
            "Keyword arguments {'add_special_token': True, 'return_attention_mast': True} not recognized.\n",
            "Keyword arguments {'add_special_token': True, 'return_attention_mast': True} not recognized.\n",
            "Keyword arguments {'add_special_token': True, 'return_attention_mast': True} not recognized.\n",
            "Keyword arguments {'add_special_token': True, 'return_attention_mast': True} not recognized.\n",
            "Keyword arguments {'add_special_token': True, 'return_attention_mast': True} not recognized.\n",
            "Keyword arguments {'add_special_token': True, 'return_attention_mast': True} not recognized.\n",
            "Keyword arguments {'add_special_token': True, 'return_attention_mast': True} not recognized.\n",
            "Keyword arguments {'add_special_token': True, 'return_attention_mast': True} not recognized.\n",
            "Keyword arguments {'add_special_token': True, 'return_attention_mast': True} not recognized.\n",
            "Keyword arguments {'add_special_token': True, 'return_attention_mast': True} not recognized.\n",
            "Keyword arguments {'add_special_token': True, 'return_attention_mast': True} not recognized.\n",
            "Keyword arguments {'add_special_token': True, 'return_attention_mast': True} not recognized.\n",
            "Keyword arguments {'add_special_token': True, 'return_attention_mast': True} not recognized.\n",
            "Keyword arguments {'add_special_token': True, 'return_attention_mast': True} not recognized.\n",
            "Keyword arguments {'add_special_token': True, 'return_attention_mast': True} not recognized.\n",
            "Keyword arguments {'add_special_token': True, 'return_attention_mast': True} not recognized.\n",
            "Keyword arguments {'add_special_token': True, 'return_attention_mast': True} not recognized.\n",
            "Keyword arguments {'add_special_token': True, 'return_attention_mast': True} not recognized.\n",
            "Keyword arguments {'add_special_token': True, 'return_attention_mast': True} not recognized.\n",
            "Keyword arguments {'add_special_token': True, 'return_attention_mast': True} not recognized.\n",
            "Keyword arguments {'add_special_token': True, 'return_attention_mast': True} not recognized.\n",
            "Keyword arguments {'add_special_token': True, 'return_attention_mast': True} not recognized.\n",
            "Keyword arguments {'add_special_token': True, 'return_attention_mast': True} not recognized.\n",
            "Keyword arguments {'add_special_token': True, 'return_attention_mast': True} not recognized.\n",
            "Keyword arguments {'add_special_token': True, 'return_attention_mast': True} not recognized.\n",
            "Keyword arguments {'add_special_token': True, 'return_attention_mast': True} not recognized.\n",
            "Keyword arguments {'add_special_token': True, 'return_attention_mast': True} not recognized.\n",
            "Keyword arguments {'add_special_token': True, 'return_attention_mast': True} not recognized.\n",
            "Keyword arguments {'add_special_token': True, 'return_attention_mast': True} not recognized.\n",
            "Keyword arguments {'add_special_token': True, 'return_attention_mast': True} not recognized.\n",
            "Keyword arguments {'add_special_token': True, 'return_attention_mast': True} not recognized.\n",
            "Keyword arguments {'add_special_token': True, 'return_attention_mast': True} not recognized.\n",
            "Keyword arguments {'add_special_token': True, 'return_attention_mast': True} not recognized.\n",
            "Keyword arguments {'add_special_token': True, 'return_attention_mast': True} not recognized.\n",
            "Keyword arguments {'add_special_token': True, 'return_attention_mast': True} not recognized.\n",
            "Keyword arguments {'add_special_token': True, 'return_attention_mast': True} not recognized.\n",
            "Keyword arguments {'add_special_token': True, 'return_attention_mast': True} not recognized.\n",
            "Keyword arguments {'add_special_token': True, 'return_attention_mast': True} not recognized.\n",
            "Keyword arguments {'add_special_token': True, 'return_attention_mast': True} not recognized.\n",
            "Keyword arguments {'add_special_token': True, 'return_attention_mast': True} not recognized.\n",
            "Keyword arguments {'add_special_token': True, 'return_attention_mast': True} not recognized.\n",
            "Keyword arguments {'add_special_token': True, 'return_attention_mast': True} not recognized.\n",
            "Keyword arguments {'add_special_token': True, 'return_attention_mast': True} not recognized.\n",
            "Keyword arguments {'add_special_token': True, 'return_attention_mast': True} not recognized.\n",
            "Keyword arguments {'add_special_token': True, 'return_attention_mast': True} not recognized.\n",
            "Keyword arguments {'add_special_token': True, 'return_attention_mast': True} not recognized.\n",
            "Keyword arguments {'add_special_token': True, 'return_attention_mast': True} not recognized.\n",
            "Keyword arguments {'add_special_token': True, 'return_attention_mast': True} not recognized.\n",
            "Keyword arguments {'add_special_token': True, 'return_attention_mast': True} not recognized.\n",
            "Keyword arguments {'add_special_token': True, 'return_attention_mast': True} not recognized.\n",
            "Keyword arguments {'add_special_token': True, 'return_attention_mast': True} not recognized.\n",
            "Keyword arguments {'add_special_token': True, 'return_attention_mast': True} not recognized.\n",
            "Keyword arguments {'add_special_token': True, 'return_attention_mast': True} not recognized.\n",
            "Keyword arguments {'add_special_token': True, 'return_attention_mast': True} not recognized.\n",
            "Keyword arguments {'add_special_token': True, 'return_attention_mast': True} not recognized.\n",
            "Keyword arguments {'add_special_token': True, 'return_attention_mast': True} not recognized.\n",
            "Keyword arguments {'add_special_token': True, 'return_attention_mast': True} not recognized.\n",
            "Keyword arguments {'add_special_token': True, 'return_attention_mast': True} not recognized.\n",
            "Keyword arguments {'add_special_token': True, 'return_attention_mast': True} not recognized.\n",
            "Keyword arguments {'add_special_token': True, 'return_attention_mast': True} not recognized.\n",
            "Keyword arguments {'add_special_token': True, 'return_attention_mast': True} not recognized.\n",
            "Keyword arguments {'add_special_token': True, 'return_attention_mast': True} not recognized.\n",
            "Keyword arguments {'add_special_token': True, 'return_attention_mast': True} not recognized.\n",
            "Keyword arguments {'add_special_token': True, 'return_attention_mast': True} not recognized.\n",
            "Keyword arguments {'add_special_token': True, 'return_attention_mast': True} not recognized.\n",
            "Keyword arguments {'add_special_token': True, 'return_attention_mast': True} not recognized.\n",
            "Keyword arguments {'add_special_token': True, 'return_attention_mast': True} not recognized.\n",
            "Keyword arguments {'add_special_token': True, 'return_attention_mast': True} not recognized.\n",
            "Keyword arguments {'add_special_token': True, 'return_attention_mast': True} not recognized.\n",
            "Keyword arguments {'add_special_token': True, 'return_attention_mast': True} not recognized.\n",
            "Keyword arguments {'add_special_token': True, 'return_attention_mast': True} not recognized.\n",
            "Keyword arguments {'add_special_token': True, 'return_attention_mast': True} not recognized.\n",
            "Keyword arguments {'add_special_token': True, 'return_attention_mast': True} not recognized.\n",
            "Keyword arguments {'add_special_token': True, 'return_attention_mast': True} not recognized.\n",
            "Keyword arguments {'add_special_token': True, 'return_attention_mast': True} not recognized.\n",
            "Keyword arguments {'add_special_token': True, 'return_attention_mast': True} not recognized.\n",
            "Keyword arguments {'add_special_token': True, 'return_attention_mast': True} not recognized.\n",
            "Keyword arguments {'add_special_token': True, 'return_attention_mast': True} not recognized.\n",
            "Keyword arguments {'add_special_token': True, 'return_attention_mast': True} not recognized.\n",
            "Keyword arguments {'add_special_token': True, 'return_attention_mast': True} not recognized.\n",
            "Keyword arguments {'add_special_token': True, 'return_attention_mast': True} not recognized.\n",
            "Keyword arguments {'add_special_token': True, 'return_attention_mast': True} not recognized.\n",
            "Keyword arguments {'add_special_token': True, 'return_attention_mast': True} not recognized.\n",
            "Keyword arguments {'add_special_token': True, 'return_attention_mast': True} not recognized.\n",
            "Keyword arguments {'add_special_token': True, 'return_attention_mast': True} not recognized.\n",
            "Keyword arguments {'add_special_token': True, 'return_attention_mast': True} not recognized.\n",
            "Keyword arguments {'add_special_token': True, 'return_attention_mast': True} not recognized.\n",
            "Keyword arguments {'add_special_token': True, 'return_attention_mast': True} not recognized.\n",
            "Keyword arguments {'add_special_token': True, 'return_attention_mast': True} not recognized.\n",
            "Keyword arguments {'add_special_token': True, 'return_attention_mast': True} not recognized.\n",
            "Keyword arguments {'add_special_token': True, 'return_attention_mast': True} not recognized.\n",
            "Keyword arguments {'add_special_token': True, 'return_attention_mast': True} not recognized.\n",
            "Keyword arguments {'add_special_token': True, 'return_attention_mast': True} not recognized.\n",
            "Keyword arguments {'add_special_token': True, 'return_attention_mast': True} not recognized.\n",
            "Keyword arguments {'add_special_token': True, 'return_attention_mast': True} not recognized.\n",
            "Keyword arguments {'add_special_token': True, 'return_attention_mast': True} not recognized.\n",
            "Keyword arguments {'add_special_token': True, 'return_attention_mast': True} not recognized.\n",
            "Keyword arguments {'add_special_token': True, 'return_attention_mast': True} not recognized.\n",
            "Keyword arguments {'add_special_token': True, 'return_attention_mast': True} not recognized.\n",
            "Keyword arguments {'add_special_token': True, 'return_attention_mast': True} not recognized.\n",
            "Keyword arguments {'add_special_token': True, 'return_attention_mast': True} not recognized.\n",
            "Keyword arguments {'add_special_token': True, 'return_attention_mast': True} not recognized.\n",
            "Keyword arguments {'add_special_token': True, 'return_attention_mast': True} not recognized.\n",
            "Keyword arguments {'add_special_token': True, 'return_attention_mast': True} not recognized.\n",
            "Keyword arguments {'add_special_token': True, 'return_attention_mast': True} not recognized.\n",
            "Keyword arguments {'add_special_token': True, 'return_attention_mast': True} not recognized.\n",
            "Keyword arguments {'add_special_token': True, 'return_attention_mast': True} not recognized.\n",
            "Keyword arguments {'add_special_token': True, 'return_attention_mast': True} not recognized.\n",
            "Keyword arguments {'add_special_token': True, 'return_attention_mast': True} not recognized.\n",
            "Keyword arguments {'add_special_token': True, 'return_attention_mast': True} not recognized.\n",
            "Keyword arguments {'add_special_token': True, 'return_attention_mast': True} not recognized.\n",
            "Keyword arguments {'add_special_token': True, 'return_attention_mast': True} not recognized.\n",
            "Keyword arguments {'add_special_token': True, 'return_attention_mast': True} not recognized.\n",
            "Keyword arguments {'add_special_token': True, 'return_attention_mast': True} not recognized.\n",
            "Keyword arguments {'add_special_token': True, 'return_attention_mast': True} not recognized.\n",
            "Keyword arguments {'add_special_token': True, 'return_attention_mast': True} not recognized.\n",
            "Keyword arguments {'add_special_token': True, 'return_attention_mast': True} not recognized.\n",
            "Keyword arguments {'add_special_token': True, 'return_attention_mast': True} not recognized.\n",
            "Keyword arguments {'add_special_token': True, 'return_attention_mast': True} not recognized.\n",
            "Keyword arguments {'add_special_token': True, 'return_attention_mast': True} not recognized.\n",
            "Keyword arguments {'add_special_token': True, 'return_attention_mast': True} not recognized.\n",
            "Keyword arguments {'add_special_token': True, 'return_attention_mast': True} not recognized.\n",
            "Keyword arguments {'add_special_token': True, 'return_attention_mast': True} not recognized.\n",
            "Keyword arguments {'add_special_token': True, 'return_attention_mast': True} not recognized.\n",
            "Keyword arguments {'add_special_token': True, 'return_attention_mast': True} not recognized.\n",
            "Keyword arguments {'add_special_token': True, 'return_attention_mast': True} not recognized.\n",
            "Keyword arguments {'add_special_token': True, 'return_attention_mast': True} not recognized.\n",
            "Keyword arguments {'add_special_token': True, 'return_attention_mast': True} not recognized.\n",
            "Keyword arguments {'add_special_token': True, 'return_attention_mast': True} not recognized.\n",
            "Keyword arguments {'add_special_token': True, 'return_attention_mast': True} not recognized.\n",
            "Keyword arguments {'add_special_token': True, 'return_attention_mast': True} not recognized.\n",
            "Keyword arguments {'add_special_token': True, 'return_attention_mast': True} not recognized.\n",
            "Keyword arguments {'add_special_token': True, 'return_attention_mast': True} not recognized.\n",
            "Keyword arguments {'add_special_token': True, 'return_attention_mast': True} not recognized.\n",
            "Keyword arguments {'add_special_token': True, 'return_attention_mast': True} not recognized.\n",
            "Keyword arguments {'add_special_token': True, 'return_attention_mast': True} not recognized.\n",
            "Keyword arguments {'add_special_token': True, 'return_attention_mast': True} not recognized.\n",
            "Keyword arguments {'add_special_token': True, 'return_attention_mast': True} not recognized.\n",
            "Keyword arguments {'add_special_token': True, 'return_attention_mast': True} not recognized.\n",
            "Keyword arguments {'add_special_token': True, 'return_attention_mast': True} not recognized.\n",
            "Keyword arguments {'add_special_token': True, 'return_attention_mast': True} not recognized.\n",
            "Keyword arguments {'add_special_token': True, 'return_attention_mast': True} not recognized.\n",
            "Keyword arguments {'add_special_token': True, 'return_attention_mast': True} not recognized.\n",
            "Keyword arguments {'add_special_token': True, 'return_attention_mast': True} not recognized.\n",
            "Keyword arguments {'add_special_token': True, 'return_attention_mast': True} not recognized.\n",
            "Keyword arguments {'add_special_token': True, 'return_attention_mast': True} not recognized.\n",
            "Keyword arguments {'add_special_token': True, 'return_attention_mast': True} not recognized.\n",
            "Keyword arguments {'add_special_token': True, 'return_attention_mast': True} not recognized.\n",
            "Keyword arguments {'add_special_token': True, 'return_attention_mast': True} not recognized.\n",
            "Keyword arguments {'add_special_token': True, 'return_attention_mast': True} not recognized.\n",
            "Keyword arguments {'add_special_token': True, 'return_attention_mast': True} not recognized.\n",
            "Keyword arguments {'add_special_token': True, 'return_attention_mast': True} not recognized.\n",
            "Keyword arguments {'add_special_token': True, 'return_attention_mast': True} not recognized.\n",
            "Keyword arguments {'add_special_token': True, 'return_attention_mast': True} not recognized.\n",
            "Keyword arguments {'add_special_token': True, 'return_attention_mast': True} not recognized.\n"
          ]
        }
      ],
      "source": [
        "#train dataset\n",
        "\n",
        "ds_train = zip(X_train_text, y_train)\n",
        "ds_test = zip(X_test_text, y_test)\n",
        "ds_train_encoded = encode_examples(ds_train).shuffle(len(X_train_text)).batch(batch_size)\n",
        "ds_test_encoded = encode_examples(ds_test).batch(batch_size)"
      ]
    },
    {
      "cell_type": "code",
      "execution_count": 18,
      "metadata": {
        "colab": {
          "base_uri": "https://localhost:8080/"
        },
        "id": "Y1iwg_WpGE3a",
        "outputId": "e9f99749-009b-4d12-df85-e0a41f00bc80"
      },
      "outputs": [
        {
          "output_type": "execute_result",
          "data": {
            "text/plain": [
              "<_BatchDataset element_spec=({'input_ids': TensorSpec(shape=(None, 256), dtype=tf.int32, name=None), 'token_type_ids': TensorSpec(shape=(None, 256), dtype=tf.int32, name=None), 'attention_mask': TensorSpec(shape=(None, 256), dtype=tf.int32, name=None)}, TensorSpec(shape=(None, 1), dtype=tf.int32, name=None))>"
            ]
          },
          "metadata": {},
          "execution_count": 18
        }
      ],
      "source": [
        "ds_train_encoded"
      ]
    },
    {
      "cell_type": "markdown",
      "metadata": {
        "id": "a4IuWNAQOcSA"
      },
      "source": [
        "## Model Setup\n",
        "transformers provides a BERT-based document classifier for fine-tuning, i.e., `TFBertForSequenceClassification`"
      ]
    },
    {
      "cell_type": "code",
      "execution_count": 19,
      "metadata": {
        "colab": {
          "base_uri": "https://localhost:8080/",
          "height": 399,
          "referenced_widgets": [
            "f1b2bc0c11f94df89baac1581d6ff4af",
            "f9c9b70493c44f76a2f3df4633452db8",
            "eda824426ccd4091b3f68309afa3662e",
            "c244a837269d4607b5d9228bd88c2a62",
            "61028a8f8834473f95518fb1d24914bd",
            "bc5dd3c209f542fcad2fe874850de87a",
            "28f963d83f094716b5905c4517fa8ac2",
            "7e1ffd2bc042447fa0c9143c40e776e0",
            "40b7b4336a674569be14e2c472cb0293",
            "a8d0602046af42e1970cd8f83924612f",
            "3ca7fec2285446d28f4e5931a736717e"
          ]
        },
        "id": "gydX-nR0HIm6",
        "outputId": "28c23f26-79ad-4c21-c68c-67fb56b053f3"
      },
      "outputs": [
        {
          "output_type": "display_data",
          "data": {
            "text/plain": [
              "Downloading model.safetensors:   0%|          | 0.00/440M [00:00<?, ?B/s]"
            ],
            "application/vnd.jupyter.widget-view+json": {
              "version_major": 2,
              "version_minor": 0,
              "model_id": "f1b2bc0c11f94df89baac1581d6ff4af"
            }
          },
          "metadata": {}
        },
        {
          "output_type": "stream",
          "name": "stderr",
          "text": [
            "All PyTorch model weights were used when initializing TFBertForSequenceClassification.\n",
            "\n",
            "Some weights or buffers of the TF 2.0 model TFBertForSequenceClassification were not initialized from the PyTorch model and are newly initialized: ['classifier.weight', 'classifier.bias']\n",
            "You should probably TRAIN this model on a down-stream task to be able to use it for predictions and inference.\n"
          ]
        },
        {
          "output_type": "stream",
          "name": "stdout",
          "text": [
            "Model: \"tf_bert_for_sequence_classification\"\n",
            "_________________________________________________________________\n",
            " Layer (type)                Output Shape              Param #   \n",
            "=================================================================\n",
            " bert (TFBertMainLayer)      multiple                  109482240 \n",
            "                                                                 \n",
            " dropout_37 (Dropout)        multiple                  0         \n",
            "                                                                 \n",
            " classifier (Dense)          multiple                  1538      \n",
            "                                                                 \n",
            "=================================================================\n",
            "Total params: 109,483,778\n",
            "Trainable params: 109,483,778\n",
            "Non-trainable params: 0\n",
            "_________________________________________________________________\n"
          ]
        }
      ],
      "source": [
        "## Initialize pre-built BERT-based classifier from transformers\n",
        "bert_model = TFBertForSequenceClassification.from_pretrained(\n",
        "    'bert-base-uncased', num_labels=num_classes)\n",
        "\n",
        "bert_model.summary()"
      ]
    },
    {
      "cell_type": "code",
      "execution_count": 20,
      "metadata": {
        "id": "eeuOGQlZOhgf"
      },
      "outputs": [],
      "source": [
        "# recommended learning rate for Adam 5e-5, 3e-5, 2e-5\n",
        "learning_rate = 2e-5\n",
        "#multiple epochs might be better as long as we will not overfit the model\n",
        "number_of_epochs=2\n",
        "\n",
        "#choosing Adam optimizer\n",
        "optimizer = tf.keras.optimizers.Adam(learning_rate=learning_rate, epsilon=1e-08)\n",
        "#we do not have one-hot vectors, we can sparce categorical cross entropy and accuracy\n",
        "loss = tf.keras.losses.SparseCategoricalCrossentropy(from_logits=True)\n",
        "metric = tf.keras.metrics.SparseCategoricalAccuracy('accuracy')\n",
        "\n",
        "bert_model.compile(loss=loss,\n",
        "                   optimizer=optimizer,\n",
        "                   metrics= metric)\n",
        "\n"
      ]
    },
    {
      "cell_type": "markdown",
      "metadata": {
        "id": "FXi8Nvb6QGMw"
      },
      "source": [
        "The BERT paper suggests a few heuristics for fine-tuning:\n",
        "\n",
        "* Batch Size: 16 or 32\n",
        "* Epochs: 2 to 4\n",
        "* Learning Rates for Adam: 5e-5, 3e-5,, or 2e-5."
      ]
    },
    {
      "cell_type": "markdown",
      "metadata": {
        "id": "WFGxVALmQKhu"
      },
      "source": [
        "## Model Training\n",
        "\n",
        "* The BERT Classifier requires two inputs: the input_ids and the attention_mask (from BertTokenizer.encode_plus().\n",
        "* The output should be the one-hot encoded labels."
      ]
    },
    {
      "cell_type": "code",
      "execution_count": 21,
      "metadata": {
        "colab": {
          "base_uri": "https://localhost:8080/"
        },
        "id": "55y2SRQPQBug",
        "outputId": "f98369de-f795-4d5e-cf8c-5448ba418db6"
      },
      "outputs": [
        {
          "output_type": "stream",
          "name": "stdout",
          "text": [
            "Epoch 1/2\n",
            "63/63 [==============================] - 2044s 32s/step - loss: 0.6835 - accuracy: 0.5760 - val_loss: 0.6330 - val_accuracy: 0.7200\n",
            "Epoch 2/2\n",
            "63/63 [==============================] - 1974s 31s/step - loss: 0.5399 - accuracy: 0.7820 - val_loss: 0.4861 - val_accuracy: 0.7400\n"
          ]
        }
      ],
      "source": [
        "history = bert_model.fit(ds_train_encoded,\n",
        "                         batch_size= batch_size,\n",
        "                         epochs= number_of_epochs,\n",
        "                         validation_data=ds_test_encoded)"
      ]
    },
    {
      "cell_type": "code",
      "execution_count": 22,
      "metadata": {
        "id": "pXBI6ScaQe1Q"
      },
      "outputs": [],
      "source": [
        "import matplotlib.pyplot as plt\n",
        "import matplotlib\n",
        "\n",
        "matplotlib.rcParams['figure.dpi'] = 150\n",
        "\n",
        "\n",
        "# Plotting results\n",
        "def plot1(history):\n",
        "    acc = history.history['accuracy']\n",
        "    val_acc = history.history['val_accuracy']\n",
        "    loss = history.history['loss']\n",
        "    val_loss = history.history['val_loss']\n",
        "\n",
        "    epochs = range(1, len(acc) + 1)\n",
        "    ## Accuracy plot\n",
        "    plt.plot(epochs, acc, 'bo', label='Training acc')\n",
        "    plt.plot(epochs, val_acc, 'b', label='Validation acc')\n",
        "    plt.title('Training and validation accuracy')\n",
        "    plt.legend()\n",
        "    ## Loss plot\n",
        "    plt.figure()\n",
        "\n",
        "    plt.plot(epochs, loss, 'bo', label='Training loss')\n",
        "    plt.plot(epochs, val_loss, 'b', label='Validation loss')\n",
        "    plt.title('Training and validation loss')\n",
        "    plt.legend()\n",
        "    plt.show()\n",
        "\n",
        "\n",
        "def plot2(history):\n",
        "    pd.DataFrame(history.history).plot(figsize=(8, 5))\n",
        "    plt.grid(True)\n",
        "    #plt.gca().set_ylim(0,1)\n",
        "    plt.show()"
      ]
    },
    {
      "cell_type": "code",
      "execution_count": 23,
      "metadata": {
        "colab": {
          "base_uri": "https://localhost:8080/",
          "height": 659
        },
        "id": "CHTJOZf4RBsO",
        "outputId": "db860683-4fbb-43e1-fa14-329a2cdc3512"
      },
      "outputs": [
        {
          "output_type": "display_data",
          "data": {
            "text/plain": [
              "<Figure size 1200x750 with 1 Axes>"
            ],
            "image/png": "[encoded data removed]"
          },
          "metadata": {}
        }
      ],
      "source": [
        "plot2(history)"
      ]
    },
    {
      "cell_type": "markdown",
      "metadata": {
        "id": "NXjpHUIOREYr"
      },
      "source": [
        "## Model Evaluation"
      ]
    },
    {
      "cell_type": "code",
      "execution_count": 24,
      "metadata": {
        "colab": {
          "base_uri": "https://localhost:8080/"
        },
        "id": "sFSbeOS4RDKB",
        "outputId": "9eea338e-ba47-469b-d0a7-dc74ca22be4c"
      },
      "outputs": [
        {
          "output_type": "stream",
          "name": "stdout",
          "text": [
            "13/13 [==============================] - 110s 8s/step - loss: 0.4861 - accuracy: 0.7400\n"
          ]
        },
        {
          "output_type": "execute_result",
          "data": {
            "text/plain": [
              "[0.48611709475517273, 0.7400000095367432]"
            ]
          },
          "metadata": {},
          "execution_count": 24
        }
      ],
      "source": [
        "bert_model.evaluate(ds_test_encoded, batch_size=batch_size)"
      ]
    },
    {
      "cell_type": "code",
      "execution_count": 25,
      "metadata": {
        "colab": {
          "base_uri": "https://localhost:8080/"
        },
        "id": "jRSyZHTTRO_t",
        "outputId": "c05a8178-18a4-48ca-a4cb-20b44610cda8"
      },
      "outputs": [
        {
          "output_type": "stream",
          "name": "stdout",
          "text": [
            "13/13 [==============================] - 114s 8s/step\n"
          ]
        }
      ],
      "source": [
        "y_test_pred = bert_model.predict(ds_test_encoded, batch_size=batch_size)"
      ]
    },
    {
      "cell_type": "code",
      "execution_count": 26,
      "metadata": {
        "id": "hK80pRhlRWtT"
      },
      "outputs": [],
      "source": [
        "y_test_pred_class = y_test_pred[0].argmax(axis=1)"
      ]
    },
    {
      "cell_type": "code",
      "execution_count": 27,
      "metadata": {
        "id": "LCtwuH4ERcaj",
        "colab": {
          "base_uri": "https://localhost:8080/"
        },
        "outputId": "7a197417-3b7c-4872-8f69-0e7e949cc460"
      },
      "outputs": [
        {
          "output_type": "stream",
          "name": "stdout",
          "text": [
            "[1 0 1 0 1 0 0 0 1 1]\n",
            "[1 0 1 1 1 0 0 0 1 1]\n"
          ]
        }
      ],
      "source": [
        "print(y_test_pred_class[:10])\n",
        "print(y_test[:10])"
      ]
    },
    {
      "cell_type": "markdown",
      "source": [
        "### Important Note:\n",
        "* We can imporve the Model accuracy by changing\n",
        "    * Batch Size: 16 or 32\n",
        "    * Epochs: 2 to 4\n",
        "    * Learning Rates for Adam: 5e-5, 3e-5,, or 2e-5."
      ],
      "metadata": {
        "id": "azNyZ9rQoMIK"
      }
    },
    {
      "cell_type": "code",
      "source": [],
      "metadata": {
        "id": "bTegO2jAoFw3"
      },
      "execution_count": null,
      "outputs": []
    }
  ],
  "metadata": {
    "accelerator": "TPU",
    "colab": {
      "provenance": [],
      "authorship_tag": "ABX9TyMDM5Jrry73iqUbsNgZHxZG",
      "include_colab_link": true
    },
    "kernelspec": {
      "display_name": "Python 3",
      "name": "python3"
    },
    "language_info": {
      "name": "python"
    },
    "widgets": {
      "application/vnd.jupyter.widget-state+json": {
        "96248195bfd44e65a4c2a40c7dca418d": {
          "model_module": "@jupyter-widgets/controls",
          "model_name": "HBoxModel",
          "model_module_version": "1.5.0",
          "state": {
            "_dom_classes": [],
            "_model_module": "@jupyter-widgets/controls",
            "_model_module_version": "1.5.0",
            "_model_name": "HBoxModel",
            "_view_count": null,
            "_view_module": "@jupyter-widgets/controls",
            "_view_module_version": "1.5.0",
            "_view_name": "HBoxView",
            "box_style": "",
            "children": [
              "IPY_MODEL_1a17c063b9ad45d197667d4b9f8fc381",
              "IPY_MODEL_dca2164d3023427abbb97f2e5832881a",
              "IPY_MODEL_38e8f731874c42d9a6271b600b798eef"
            ],
            "layout": "IPY_MODEL_e539ab565fb740fcba8d8e99470c62e9"
          }
        },
        "1a17c063b9ad45d197667d4b9f8fc381": {
          "model_module": "@jupyter-widgets/controls",
          "model_name": "HTMLModel",
          "model_module_version": "1.5.0",
          "state": {
            "_dom_classes": [],
            "_model_module": "@jupyter-widgets/controls",
            "_model_module_version": "1.5.0",
            "_model_name": "HTMLModel",
            "_view_count": null,
            "_view_module": "@jupyter-widgets/controls",
            "_view_module_version": "1.5.0",
            "_view_name": "HTMLView",
            "description": "",
            "description_tooltip": null,
            "layout": "IPY_MODEL_d8cade79f4d4450fbf3bc2161fe9b1ea",
            "placeholder": "​",
            "style": "IPY_MODEL_abb93a4ba9bb4f90822aedf8a6c76bcb",
            "value": "Downloading (…)okenizer_config.json: 100%"
          }
        },
        "dca2164d3023427abbb97f2e5832881a": {
          "model_module": "@jupyter-widgets/controls",
          "model_name": "FloatProgressModel",
          "model_module_version": "1.5.0",
          "state": {
            "_dom_classes": [],
            "_model_module": "@jupyter-widgets/controls",
            "_model_module_version": "1.5.0",
            "_model_name": "FloatProgressModel",
            "_view_count": null,
            "_view_module": "@jupyter-widgets/controls",
            "_view_module_version": "1.5.0",
            "_view_name": "ProgressView",
            "bar_style": "success",
            "description": "",
            "description_tooltip": null,
            "layout": "IPY_MODEL_7bc678426422442ea92a67ba2392cc9a",
            "max": 28,
            "min": 0,
            "orientation": "horizontal",
            "style": "IPY_MODEL_d5547b867952489eb3ca2e896c755fc8",
            "value": 28
          }
        },
        "38e8f731874c42d9a6271b600b798eef": {
          "model_module": "@jupyter-widgets/controls",
          "model_name": "HTMLModel",
          "model_module_version": "1.5.0",
          "state": {
            "_dom_classes": [],
            "_model_module": "@jupyter-widgets/controls",
            "_model_module_version": "1.5.0",
            "_model_name": "HTMLModel",
            "_view_count": null,
            "_view_module": "@jupyter-widgets/controls",
            "_view_module_version": "1.5.0",
            "_view_name": "HTMLView",
            "description": "",
            "description_tooltip": null,
            "layout": "IPY_MODEL_5f28d511ef154c5fb044acfaf53689c1",
            "placeholder": "​",
            "style": "IPY_MODEL_414f071980da44e89da0585c7569dbc3",
            "value": " 28.0/28.0 [00:00&lt;00:00, 1.41kB/s]"
          }
        },
        "e539ab565fb740fcba8d8e99470c62e9": {
          "model_module": "@jupyter-widgets/base",
          "model_name": "LayoutModel",
          "model_module_version": "1.2.0",
          "state": {
            "_model_module": "@jupyter-widgets/base",
            "_model_module_version": "1.2.0",
            "_model_name": "LayoutModel",
            "_view_count": null,
            "_view_module": "@jupyter-widgets/base",
            "_view_module_version": "1.2.0",
            "_view_name": "LayoutView",
            "align_content": null,
            "align_items": null,
            "align_self": null,
            "border": null,
            "bottom": null,
            "display": null,
            "flex": null,
            "flex_flow": null,
            "grid_area": null,
            "grid_auto_columns": null,
            "grid_auto_flow": null,
            "grid_auto_rows": null,
            "grid_column": null,
            "grid_gap": null,
            "grid_row": null,
            "grid_template_areas": null,
            "grid_template_columns": null,
            "grid_template_rows": null,
            "height": null,
            "justify_content": null,
            "justify_items": null,
            "left": null,
            "margin": null,
            "max_height": null,
            "max_width": null,
            "min_height": null,
            "min_width": null,
            "object_fit": null,
            "object_position": null,
            "order": null,
            "overflow": null,
            "overflow_x": null,
            "overflow_y": null,
            "padding": null,
            "right": null,
            "top": null,
            "visibility": null,
            "width": null
          }
        },
        "d8cade79f4d4450fbf3bc2161fe9b1ea": {
          "model_module": "@jupyter-widgets/base",
          "model_name": "LayoutModel",
          "model_module_version": "1.2.0",
          "state": {
            "_model_module": "@jupyter-widgets/base",
            "_model_module_version": "1.2.0",
            "_model_name": "LayoutModel",
            "_view_count": null,
            "_view_module": "@jupyter-widgets/base",
            "_view_module_version": "1.2.0",
            "_view_name": "LayoutView",
            "align_content": null,
            "align_items": null,
            "align_self": null,
            "border": null,
            "bottom": null,
            "display": null,
            "flex": null,
            "flex_flow": null,
            "grid_area": null,
            "grid_auto_columns": null,
            "grid_auto_flow": null,
            "grid_auto_rows": null,
            "grid_column": null,
            "grid_gap": null,
            "grid_row": null,
            "grid_template_areas": null,
            "grid_template_columns": null,
            "grid_template_rows": null,
            "height": null,
            "justify_content": null,
            "justify_items": null,
            "left": null,
            "margin": null,
            "max_height": null,
            "max_width": null,
            "min_height": null,
            "min_width": null,
            "object_fit": null,
            "object_position": null,
            "order": null,
            "overflow": null,
            "overflow_x": null,
            "overflow_y": null,
            "padding": null,
            "right": null,
            "top": null,
            "visibility": null,
            "width": null
          }
        },
        "abb93a4ba9bb4f90822aedf8a6c76bcb": {
          "model_module": "@jupyter-widgets/controls",
          "model_name": "DescriptionStyleModel",
          "model_module_version": "1.5.0",
          "state": {
            "_model_module": "@jupyter-widgets/controls",
            "_model_module_version": "1.5.0",
            "_model_name": "DescriptionStyleModel",
            "_view_count": null,
            "_view_module": "@jupyter-widgets/base",
            "_view_module_version": "1.2.0",
            "_view_name": "StyleView",
            "description_width": ""
          }
        },
        "7bc678426422442ea92a67ba2392cc9a": {
          "model_module": "@jupyter-widgets/base",
          "model_name": "LayoutModel",
          "model_module_version": "1.2.0",
          "state": {
            "_model_module": "@jupyter-widgets/base",
            "_model_module_version": "1.2.0",
            "_model_name": "LayoutModel",
            "_view_count": null,
            "_view_module": "@jupyter-widgets/base",
            "_view_module_version": "1.2.0",
            "_view_name": "LayoutView",
            "align_content": null,
            "align_items": null,
            "align_self": null,
            "border": null,
            "bottom": null,
            "display": null,
            "flex": null,
            "flex_flow": null,
            "grid_area": null,
            "grid_auto_columns": null,
            "grid_auto_flow": null,
            "grid_auto_rows": null,
            "grid_column": null,
            "grid_gap": null,
            "grid_row": null,
            "grid_template_areas": null,
            "grid_template_columns": null,
            "grid_template_rows": null,
            "height": null,
            "justify_content": null,
            "justify_items": null,
            "left": null,
            "margin": null,
            "max_height": null,
            "max_width": null,
            "min_height": null,
            "min_width": null,
            "object_fit": null,
            "object_position": null,
            "order": null,
            "overflow": null,
            "overflow_x": null,
            "overflow_y": null,
            "padding": null,
            "right": null,
            "top": null,
            "visibility": null,
            "width": null
          }
        },
        "d5547b867952489eb3ca2e896c755fc8": {
          "model_module": "@jupyter-widgets/controls",
          "model_name": "ProgressStyleModel",
          "model_module_version": "1.5.0",
          "state": {
            "_model_module": "@jupyter-widgets/controls",
            "_model_module_version": "1.5.0",
            "_model_name": "ProgressStyleModel",
            "_view_count": null,
            "_view_module": "@jupyter-widgets/base",
            "_view_module_version": "1.2.0",
            "_view_name": "StyleView",
            "bar_color": null,
            "description_width": ""
          }
        },
        "5f28d511ef154c5fb044acfaf53689c1": {
          "model_module": "@jupyter-widgets/base",
          "model_name": "LayoutModel",
          "model_module_version": "1.2.0",
          "state": {
            "_model_module": "@jupyter-widgets/base",
            "_model_module_version": "1.2.0",
            "_model_name": "LayoutModel",
            "_view_count": null,
            "_view_module": "@jupyter-widgets/base",
            "_view_module_version": "1.2.0",
            "_view_name": "LayoutView",
            "align_content": null,
            "align_items": null,
            "align_self": null,
            "border": null,
            "bottom": null,
            "display": null,
            "flex": null,
            "flex_flow": null,
            "grid_area": null,
            "grid_auto_columns": null,
            "grid_auto_flow": null,
            "grid_auto_rows": null,
            "grid_column": null,
            "grid_gap": null,
            "grid_row": null,
            "grid_template_areas": null,
            "grid_template_columns": null,
            "grid_template_rows": null,
            "height": null,
            "justify_content": null,
            "justify_items": null,
            "left": null,
            "margin": null,
            "max_height": null,
            "max_width": null,
            "min_height": null,
            "min_width": null,
            "object_fit": null,
            "object_position": null,
            "order": null,
            "overflow": null,
            "overflow_x": null,
            "overflow_y": null,
            "padding": null,
            "right": null,
            "top": null,
            "visibility": null,
            "width": null
          }
        },
        "414f071980da44e89da0585c7569dbc3": {
          "model_module": "@jupyter-widgets/controls",
          "model_name": "DescriptionStyleModel",
          "model_module_version": "1.5.0",
          "state": {
            "_model_module": "@jupyter-widgets/controls",
            "_model_module_version": "1.5.0",
            "_model_name": "DescriptionStyleModel",
            "_view_count": null,
            "_view_module": "@jupyter-widgets/base",
            "_view_module_version": "1.2.0",
            "_view_name": "StyleView",
            "description_width": ""
          }
        },
        "44d56ac39e0940fd85137378883575e7": {
          "model_module": "@jupyter-widgets/controls",
          "model_name": "HBoxModel",
          "model_module_version": "1.5.0",
          "state": {
            "_dom_classes": [],
            "_model_module": "@jupyter-widgets/controls",
            "_model_module_version": "1.5.0",
            "_model_name": "HBoxModel",
            "_view_count": null,
            "_view_module": "@jupyter-widgets/controls",
            "_view_module_version": "1.5.0",
            "_view_name": "HBoxView",
            "box_style": "",
            "children": [
              "IPY_MODEL_7cee4a21526a464bb7e3a9ed66f1ff93",
              "IPY_MODEL_621c588a44e547c09bb7dcbd16cee97d",
              "IPY_MODEL_4359551da8ab43ed935bcd0ab1b3f04e"
            ],
            "layout": "IPY_MODEL_471e8673b18640ac8f8385a061b31853"
          }
        },
        "7cee4a21526a464bb7e3a9ed66f1ff93": {
          "model_module": "@jupyter-widgets/controls",
          "model_name": "HTMLModel",
          "model_module_version": "1.5.0",
          "state": {
            "_dom_classes": [],
            "_model_module": "@jupyter-widgets/controls",
            "_model_module_version": "1.5.0",
            "_model_name": "HTMLModel",
            "_view_count": null,
            "_view_module": "@jupyter-widgets/controls",
            "_view_module_version": "1.5.0",
            "_view_name": "HTMLView",
            "description": "",
            "description_tooltip": null,
            "layout": "IPY_MODEL_fd628c0ada684df8a025f2b2bcdd566f",
            "placeholder": "​",
            "style": "IPY_MODEL_0a3eafc69f884a8b8e25e65fa12ed8c7",
            "value": "Downloading (…)solve/main/vocab.txt: 100%"
          }
        },
        "621c588a44e547c09bb7dcbd16cee97d": {
          "model_module": "@jupyter-widgets/controls",
          "model_name": "FloatProgressModel",
          "model_module_version": "1.5.0",
          "state": {
            "_dom_classes": [],
            "_model_module": "@jupyter-widgets/controls",
            "_model_module_version": "1.5.0",
            "_model_name": "FloatProgressModel",
            "_view_count": null,
            "_view_module": "@jupyter-widgets/controls",
            "_view_module_version": "1.5.0",
            "_view_name": "ProgressView",
            "bar_style": "success",
            "description": "",
            "description_tooltip": null,
            "layout": "IPY_MODEL_8534b0c507c54117b423bb617b685d09",
            "max": 231508,
            "min": 0,
            "orientation": "horizontal",
            "style": "IPY_MODEL_77cf4e129f404d9598244c1df3d62e53",
            "value": 231508
          }
        },
        "4359551da8ab43ed935bcd0ab1b3f04e": {
          "model_module": "@jupyter-widgets/controls",
          "model_name": "HTMLModel",
          "model_module_version": "1.5.0",
          "state": {
            "_dom_classes": [],
            "_model_module": "@jupyter-widgets/controls",
            "_model_module_version": "1.5.0",
            "_model_name": "HTMLModel",
            "_view_count": null,
            "_view_module": "@jupyter-widgets/controls",
            "_view_module_version": "1.5.0",
            "_view_name": "HTMLView",
            "description": "",
            "description_tooltip": null,
            "layout": "IPY_MODEL_50280a05215e470faa4973087ae71b37",
            "placeholder": "​",
            "style": "IPY_MODEL_9e357fade95545dcbbe5faded49217fa",
            "value": " 232k/232k [00:00&lt;00:00, 4.36MB/s]"
          }
        },
        "471e8673b18640ac8f8385a061b31853": {
          "model_module": "@jupyter-widgets/base",
          "model_name": "LayoutModel",
          "model_module_version": "1.2.0",
          "state": {
            "_model_module": "@jupyter-widgets/base",
            "_model_module_version": "1.2.0",
            "_model_name": "LayoutModel",
            "_view_count": null,
            "_view_module": "@jupyter-widgets/base",
            "_view_module_version": "1.2.0",
            "_view_name": "LayoutView",
            "align_content": null,
            "align_items": null,
            "align_self": null,
            "border": null,
            "bottom": null,
            "display": null,
            "flex": null,
            "flex_flow": null,
            "grid_area": null,
            "grid_auto_columns": null,
            "grid_auto_flow": null,
            "grid_auto_rows": null,
            "grid_column": null,
            "grid_gap": null,
            "grid_row": null,
            "grid_template_areas": null,
            "grid_template_columns": null,
            "grid_template_rows": null,
            "height": null,
            "justify_content": null,
            "justify_items": null,
            "left": null,
            "margin": null,
            "max_height": null,
            "max_width": null,
            "min_height": null,
            "min_width": null,
            "object_fit": null,
            "object_position": null,
            "order": null,
            "overflow": null,
            "overflow_x": null,
            "overflow_y": null,
            "padding": null,
            "right": null,
            "top": null,
            "visibility": null,
            "width": null
          }
        },
        "fd628c0ada684df8a025f2b2bcdd566f": {
          "model_module": "@jupyter-widgets/base",
          "model_name": "LayoutModel",
          "model_module_version": "1.2.0",
          "state": {
            "_model_module": "@jupyter-widgets/base",
            "_model_module_version": "1.2.0",
            "_model_name": "LayoutModel",
            "_view_count": null,
            "_view_module": "@jupyter-widgets/base",
            "_view_module_version": "1.2.0",
            "_view_name": "LayoutView",
            "align_content": null,
            "align_items": null,
            "align_self": null,
            "border": null,
            "bottom": null,
            "display": null,
            "flex": null,
            "flex_flow": null,
            "grid_area": null,
            "grid_auto_columns": null,
            "grid_auto_flow": null,
            "grid_auto_rows": null,
            "grid_column": null,
            "grid_gap": null,
            "grid_row": null,
            "grid_template_areas": null,
            "grid_template_columns": null,
            "grid_template_rows": null,
            "height": null,
            "justify_content": null,
            "justify_items": null,
            "left": null,
            "margin": null,
            "max_height": null,
            "max_width": null,
            "min_height": null,
            "min_width": null,
            "object_fit": null,
            "object_position": null,
            "order": null,
            "overflow": null,
            "overflow_x": null,
            "overflow_y": null,
            "padding": null,
            "right": null,
            "top": null,
            "visibility": null,
            "width": null
          }
        },
        "0a3eafc69f884a8b8e25e65fa12ed8c7": {
          "model_module": "@jupyter-widgets/controls",
          "model_name": "DescriptionStyleModel",
          "model_module_version": "1.5.0",
          "state": {
            "_model_module": "@jupyter-widgets/controls",
            "_model_module_version": "1.5.0",
            "_model_name": "DescriptionStyleModel",
            "_view_count": null,
            "_view_module": "@jupyter-widgets/base",
            "_view_module_version": "1.2.0",
            "_view_name": "StyleView",
            "description_width": ""
          }
        },
        "8534b0c507c54117b423bb617b685d09": {
          "model_module": "@jupyter-widgets/base",
          "model_name": "LayoutModel",
          "model_module_version": "1.2.0",
          "state": {
            "_model_module": "@jupyter-widgets/base",
            "_model_module_version": "1.2.0",
            "_model_name": "LayoutModel",
            "_view_count": null,
            "_view_module": "@jupyter-widgets/base",
            "_view_module_version": "1.2.0",
            "_view_name": "LayoutView",
            "align_content": null,
            "align_items": null,
            "align_self": null,
            "border": null,
            "bottom": null,
            "display": null,
            "flex": null,
            "flex_flow": null,
            "grid_area": null,
            "grid_auto_columns": null,
            "grid_auto_flow": null,
            "grid_auto_rows": null,
            "grid_column": null,
            "grid_gap": null,
            "grid_row": null,
            "grid_template_areas": null,
            "grid_template_columns": null,
            "grid_template_rows": null,
            "height": null,
            "justify_content": null,
            "justify_items": null,
            "left": null,
            "margin": null,
            "max_height": null,
            "max_width": null,
            "min_height": null,
            "min_width": null,
            "object_fit": null,
            "object_position": null,
            "order": null,
            "overflow": null,
            "overflow_x": null,
            "overflow_y": null,
            "padding": null,
            "right": null,
            "top": null,
            "visibility": null,
            "width": null
          }
        },
        "77cf4e129f404d9598244c1df3d62e53": {
          "model_module": "@jupyter-widgets/controls",
          "model_name": "ProgressStyleModel",
          "model_module_version": "1.5.0",
          "state": {
            "_model_module": "@jupyter-widgets/controls",
            "_model_module_version": "1.5.0",
            "_model_name": "ProgressStyleModel",
            "_view_count": null,
            "_view_module": "@jupyter-widgets/base",
            "_view_module_version": "1.2.0",
            "_view_name": "StyleView",
            "bar_color": null,
            "description_width": ""
          }
        },
        "50280a05215e470faa4973087ae71b37": {
          "model_module": "@jupyter-widgets/base",
          "model_name": "LayoutModel",
          "model_module_version": "1.2.0",
          "state": {
            "_model_module": "@jupyter-widgets/base",
            "_model_module_version": "1.2.0",
            "_model_name": "LayoutModel",
            "_view_count": null,
            "_view_module": "@jupyter-widgets/base",
            "_view_module_version": "1.2.0",
            "_view_name": "LayoutView",
            "align_content": null,
            "align_items": null,
            "align_self": null,
            "border": null,
            "bottom": null,
            "display": null,
            "flex": null,
            "flex_flow": null,
            "grid_area": null,
            "grid_auto_columns": null,
            "grid_auto_flow": null,
            "grid_auto_rows": null,
            "grid_column": null,
            "grid_gap": null,
            "grid_row": null,
            "grid_template_areas": null,
            "grid_template_columns": null,
            "grid_template_rows": null,
            "height": null,
            "justify_content": null,
            "justify_items": null,
            "left": null,
            "margin": null,
            "max_height": null,
            "max_width": null,
            "min_height": null,
            "min_width": null,
            "object_fit": null,
            "object_position": null,
            "order": null,
            "overflow": null,
            "overflow_x": null,
            "overflow_y": null,
            "padding": null,
            "right": null,
            "top": null,
            "visibility": null,
            "width": null
          }
        },
        "9e357fade95545dcbbe5faded49217fa": {
          "model_module": "@jupyter-widgets/controls",
          "model_name": "DescriptionStyleModel",
          "model_module_version": "1.5.0",
          "state": {
            "_model_module": "@jupyter-widgets/controls",
            "_model_module_version": "1.5.0",
            "_model_name": "DescriptionStyleModel",
            "_view_count": null,
            "_view_module": "@jupyter-widgets/base",
            "_view_module_version": "1.2.0",
            "_view_name": "StyleView",
            "description_width": ""
          }
        },
        "9ac0e7e411b34ad7b966afd8bb42baa4": {
          "model_module": "@jupyter-widgets/controls",
          "model_name": "HBoxModel",
          "model_module_version": "1.5.0",
          "state": {
            "_dom_classes": [],
            "_model_module": "@jupyter-widgets/controls",
            "_model_module_version": "1.5.0",
            "_model_name": "HBoxModel",
            "_view_count": null,
            "_view_module": "@jupyter-widgets/controls",
            "_view_module_version": "1.5.0",
            "_view_name": "HBoxView",
            "box_style": "",
            "children": [
              "IPY_MODEL_c2ae4eb43bd34c66af7d8a20b2c28122",
              "IPY_MODEL_0835f910a3e145bda6bf7d497a520dea",
              "IPY_MODEL_d1ee55e0d4544306af8969677e5fab5b"
            ],
            "layout": "IPY_MODEL_6217b27724db4a2baa88da7f03e5dc44"
          }
        },
        "c2ae4eb43bd34c66af7d8a20b2c28122": {
          "model_module": "@jupyter-widgets/controls",
          "model_name": "HTMLModel",
          "model_module_version": "1.5.0",
          "state": {
            "_dom_classes": [],
            "_model_module": "@jupyter-widgets/controls",
            "_model_module_version": "1.5.0",
            "_model_name": "HTMLModel",
            "_view_count": null,
            "_view_module": "@jupyter-widgets/controls",
            "_view_module_version": "1.5.0",
            "_view_name": "HTMLView",
            "description": "",
            "description_tooltip": null,
            "layout": "IPY_MODEL_c6e71207862f40aa8cd62cafa5bd998a",
            "placeholder": "​",
            "style": "IPY_MODEL_08b1d150fa3540edbc70cce15fc0f34a",
            "value": "Downloading (…)/main/tokenizer.json: 100%"
          }
        },
        "0835f910a3e145bda6bf7d497a520dea": {
          "model_module": "@jupyter-widgets/controls",
          "model_name": "FloatProgressModel",
          "model_module_version": "1.5.0",
          "state": {
            "_dom_classes": [],
            "_model_module": "@jupyter-widgets/controls",
            "_model_module_version": "1.5.0",
            "_model_name": "FloatProgressModel",
            "_view_count": null,
            "_view_module": "@jupyter-widgets/controls",
            "_view_module_version": "1.5.0",
            "_view_name": "ProgressView",
            "bar_style": "success",
            "description": "",
            "description_tooltip": null,
            "layout": "IPY_MODEL_fa36313ebcda43159a352cc8a79dd037",
            "max": 466062,
            "min": 0,
            "orientation": "horizontal",
            "style": "IPY_MODEL_5c4c795a21d04736a33dc00eb855e276",
            "value": 466062
          }
        },
        "d1ee55e0d4544306af8969677e5fab5b": {
          "model_module": "@jupyter-widgets/controls",
          "model_name": "HTMLModel",
          "model_module_version": "1.5.0",
          "state": {
            "_dom_classes": [],
            "_model_module": "@jupyter-widgets/controls",
            "_model_module_version": "1.5.0",
            "_model_name": "HTMLModel",
            "_view_count": null,
            "_view_module": "@jupyter-widgets/controls",
            "_view_module_version": "1.5.0",
            "_view_name": "HTMLView",
            "description": "",
            "description_tooltip": null,
            "layout": "IPY_MODEL_c668754769354e1eadf62381be20bde9",
            "placeholder": "​",
            "style": "IPY_MODEL_3758c54323bd4d569593f43cb0d5fcc2",
            "value": " 466k/466k [00:00&lt;00:00, 9.73MB/s]"
          }
        },
        "6217b27724db4a2baa88da7f03e5dc44": {
          "model_module": "@jupyter-widgets/base",
          "model_name": "LayoutModel",
          "model_module_version": "1.2.0",
          "state": {
            "_model_module": "@jupyter-widgets/base",
            "_model_module_version": "1.2.0",
            "_model_name": "LayoutModel",
            "_view_count": null,
            "_view_module": "@jupyter-widgets/base",
            "_view_module_version": "1.2.0",
            "_view_name": "LayoutView",
            "align_content": null,
            "align_items": null,
            "align_self": null,
            "border": null,
            "bottom": null,
            "display": null,
            "flex": null,
            "flex_flow": null,
            "grid_area": null,
            "grid_auto_columns": null,
            "grid_auto_flow": null,
            "grid_auto_rows": null,
            "grid_column": null,
            "grid_gap": null,
            "grid_row": null,
            "grid_template_areas": null,
            "grid_template_columns": null,
            "grid_template_rows": null,
            "height": null,
            "justify_content": null,
            "justify_items": null,
            "left": null,
            "margin": null,
            "max_height": null,
            "max_width": null,
            "min_height": null,
            "min_width": null,
            "object_fit": null,
            "object_position": null,
            "order": null,
            "overflow": null,
            "overflow_x": null,
            "overflow_y": null,
            "padding": null,
            "right": null,
            "top": null,
            "visibility": null,
            "width": null
          }
        },
        "c6e71207862f40aa8cd62cafa5bd998a": {
          "model_module": "@jupyter-widgets/base",
          "model_name": "LayoutModel",
          "model_module_version": "1.2.0",
          "state": {
            "_model_module": "@jupyter-widgets/base",
            "_model_module_version": "1.2.0",
            "_model_name": "LayoutModel",
            "_view_count": null,
            "_view_module": "@jupyter-widgets/base",
            "_view_module_version": "1.2.0",
            "_view_name": "LayoutView",
            "align_content": null,
            "align_items": null,
            "align_self": null,
            "border": null,
            "bottom": null,
            "display": null,
            "flex": null,
            "flex_flow": null,
            "grid_area": null,
            "grid_auto_columns": null,
            "grid_auto_flow": null,
            "grid_auto_rows": null,
            "grid_column": null,
            "grid_gap": null,
            "grid_row": null,
            "grid_template_areas": null,
            "grid_template_columns": null,
            "grid_template_rows": null,
            "height": null,
            "justify_content": null,
            "justify_items": null,
            "left": null,
            "margin": null,
            "max_height": null,
            "max_width": null,
            "min_height": null,
            "min_width": null,
            "object_fit": null,
            "object_position": null,
            "order": null,
            "overflow": null,
            "overflow_x": null,
            "overflow_y": null,
            "padding": null,
            "right": null,
            "top": null,
            "visibility": null,
            "width": null
          }
        },
        "08b1d150fa3540edbc70cce15fc0f34a": {
          "model_module": "@jupyter-widgets/controls",
          "model_name": "DescriptionStyleModel",
          "model_module_version": "1.5.0",
          "state": {
            "_model_module": "@jupyter-widgets/controls",
            "_model_module_version": "1.5.0",
            "_model_name": "DescriptionStyleModel",
            "_view_count": null,
            "_view_module": "@jupyter-widgets/base",
            "_view_module_version": "1.2.0",
            "_view_name": "StyleView",
            "description_width": ""
          }
        },
        "fa36313ebcda43159a352cc8a79dd037": {
          "model_module": "@jupyter-widgets/base",
          "model_name": "LayoutModel",
          "model_module_version": "1.2.0",
          "state": {
            "_model_module": "@jupyter-widgets/base",
            "_model_module_version": "1.2.0",
            "_model_name": "LayoutModel",
            "_view_count": null,
            "_view_module": "@jupyter-widgets/base",
            "_view_module_version": "1.2.0",
            "_view_name": "LayoutView",
            "align_content": null,
            "align_items": null,
            "align_self": null,
            "border": null,
            "bottom": null,
            "display": null,
            "flex": null,
            "flex_flow": null,
            "grid_area": null,
            "grid_auto_columns": null,
            "grid_auto_flow": null,
            "grid_auto_rows": null,
            "grid_column": null,
            "grid_gap": null,
            "grid_row": null,
            "grid_template_areas": null,
            "grid_template_columns": null,
            "grid_template_rows": null,
            "height": null,
            "justify_content": null,
            "justify_items": null,
            "left": null,
            "margin": null,
            "max_height": null,
            "max_width": null,
            "min_height": null,
            "min_width": null,
            "object_fit": null,
            "object_position": null,
            "order": null,
            "overflow": null,
            "overflow_x": null,
            "overflow_y": null,
            "padding": null,
            "right": null,
            "top": null,
            "visibility": null,
            "width": null
          }
        },
        "5c4c795a21d04736a33dc00eb855e276": {
          "model_module": "@jupyter-widgets/controls",
          "model_name": "ProgressStyleModel",
          "model_module_version": "1.5.0",
          "state": {
            "_model_module": "@jupyter-widgets/controls",
            "_model_module_version": "1.5.0",
            "_model_name": "ProgressStyleModel",
            "_view_count": null,
            "_view_module": "@jupyter-widgets/base",
            "_view_module_version": "1.2.0",
            "_view_name": "StyleView",
            "bar_color": null,
            "description_width": ""
          }
        },
        "c668754769354e1eadf62381be20bde9": {
          "model_module": "@jupyter-widgets/base",
          "model_name": "LayoutModel",
          "model_module_version": "1.2.0",
          "state": {
            "_model_module": "@jupyter-widgets/base",
            "_model_module_version": "1.2.0",
            "_model_name": "LayoutModel",
            "_view_count": null,
            "_view_module": "@jupyter-widgets/base",
            "_view_module_version": "1.2.0",
            "_view_name": "LayoutView",
            "align_content": null,
            "align_items": null,
            "align_self": null,
            "border": null,
            "bottom": null,
            "display": null,
            "flex": null,
            "flex_flow": null,
            "grid_area": null,
            "grid_auto_columns": null,
            "grid_auto_flow": null,
            "grid_auto_rows": null,
            "grid_column": null,
            "grid_gap": null,
            "grid_row": null,
            "grid_template_areas": null,
            "grid_template_columns": null,
            "grid_template_rows": null,
            "height": null,
            "justify_content": null,
            "justify_items": null,
            "left": null,
            "margin": null,
            "max_height": null,
            "max_width": null,
            "min_height": null,
            "min_width": null,
            "object_fit": null,
            "object_position": null,
            "order": null,
            "overflow": null,
            "overflow_x": null,
            "overflow_y": null,
            "padding": null,
            "right": null,
            "top": null,
            "visibility": null,
            "width": null
          }
        },
        "3758c54323bd4d569593f43cb0d5fcc2": {
          "model_module": "@jupyter-widgets/controls",
          "model_name": "DescriptionStyleModel",
          "model_module_version": "1.5.0",
          "state": {
            "_model_module": "@jupyter-widgets/controls",
            "_model_module_version": "1.5.0",
            "_model_name": "DescriptionStyleModel",
            "_view_count": null,
            "_view_module": "@jupyter-widgets/base",
            "_view_module_version": "1.2.0",
            "_view_name": "StyleView",
            "description_width": ""
          }
        },
        "d124c3aa6e564b97bdd5a516a22ee89f": {
          "model_module": "@jupyter-widgets/controls",
          "model_name": "HBoxModel",
          "model_module_version": "1.5.0",
          "state": {
            "_dom_classes": [],
            "_model_module": "@jupyter-widgets/controls",
            "_model_module_version": "1.5.0",
            "_model_name": "HBoxModel",
            "_view_count": null,
            "_view_module": "@jupyter-widgets/controls",
            "_view_module_version": "1.5.0",
            "_view_name": "HBoxView",
            "box_style": "",
            "children": [
              "IPY_MODEL_0fa3f711bf9248a993e6b74fc8213583",
              "IPY_MODEL_66db5a18ce5b4f32aad6f900e90603a2",
              "IPY_MODEL_d9392fc871b24b74a4c577eaa942455e"
            ],
            "layout": "IPY_MODEL_c517a5320a644cd5986e123f8dd87976"
          }
        },
        "0fa3f711bf9248a993e6b74fc8213583": {
          "model_module": "@jupyter-widgets/controls",
          "model_name": "HTMLModel",
          "model_module_version": "1.5.0",
          "state": {
            "_dom_classes": [],
            "_model_module": "@jupyter-widgets/controls",
            "_model_module_version": "1.5.0",
            "_model_name": "HTMLModel",
            "_view_count": null,
            "_view_module": "@jupyter-widgets/controls",
            "_view_module_version": "1.5.0",
            "_view_name": "HTMLView",
            "description": "",
            "description_tooltip": null,
            "layout": "IPY_MODEL_2d88948dada64c2e8f666ed61f324d8c",
            "placeholder": "​",
            "style": "IPY_MODEL_c7980eee5d0e4b27b7cd8980b0a38197",
            "value": "Downloading (…)lve/main/config.json: 100%"
          }
        },
        "66db5a18ce5b4f32aad6f900e90603a2": {
          "model_module": "@jupyter-widgets/controls",
          "model_name": "FloatProgressModel",
          "model_module_version": "1.5.0",
          "state": {
            "_dom_classes": [],
            "_model_module": "@jupyter-widgets/controls",
            "_model_module_version": "1.5.0",
            "_model_name": "FloatProgressModel",
            "_view_count": null,
            "_view_module": "@jupyter-widgets/controls",
            "_view_module_version": "1.5.0",
            "_view_name": "ProgressView",
            "bar_style": "success",
            "description": "",
            "description_tooltip": null,
            "layout": "IPY_MODEL_40eade521d734a849d0e52fe6af2b91d",
            "max": 570,
            "min": 0,
            "orientation": "horizontal",
            "style": "IPY_MODEL_72d1a38a3b3c435f88c9fee9f3215c1d",
            "value": 570
          }
        },
        "d9392fc871b24b74a4c577eaa942455e": {
          "model_module": "@jupyter-widgets/controls",
          "model_name": "HTMLModel",
          "model_module_version": "1.5.0",
          "state": {
            "_dom_classes": [],
            "_model_module": "@jupyter-widgets/controls",
            "_model_module_version": "1.5.0",
            "_model_name": "HTMLModel",
            "_view_count": null,
            "_view_module": "@jupyter-widgets/controls",
            "_view_module_version": "1.5.0",
            "_view_name": "HTMLView",
            "description": "",
            "description_tooltip": null,
            "layout": "IPY_MODEL_3020ef14776f4a1f8aeb922e7a6ed17a",
            "placeholder": "​",
            "style": "IPY_MODEL_fa21680bfb68403f8fcfde3fa0a55f65",
            "value": " 570/570 [00:00&lt;00:00, 33.7kB/s]"
          }
        },
        "c517a5320a644cd5986e123f8dd87976": {
          "model_module": "@jupyter-widgets/base",
          "model_name": "LayoutModel",
          "model_module_version": "1.2.0",
          "state": {
            "_model_module": "@jupyter-widgets/base",
            "_model_module_version": "1.2.0",
            "_model_name": "LayoutModel",
            "_view_count": null,
            "_view_module": "@jupyter-widgets/base",
            "_view_module_version": "1.2.0",
            "_view_name": "LayoutView",
            "align_content": null,
            "align_items": null,
            "align_self": null,
            "border": null,
            "bottom": null,
            "display": null,
            "flex": null,
            "flex_flow": null,
            "grid_area": null,
            "grid_auto_columns": null,
            "grid_auto_flow": null,
            "grid_auto_rows": null,
            "grid_column": null,
            "grid_gap": null,
            "grid_row": null,
            "grid_template_areas": null,
            "grid_template_columns": null,
            "grid_template_rows": null,
            "height": null,
            "justify_content": null,
            "justify_items": null,
            "left": null,
            "margin": null,
            "max_height": null,
            "max_width": null,
            "min_height": null,
            "min_width": null,
            "object_fit": null,
            "object_position": null,
            "order": null,
            "overflow": null,
            "overflow_x": null,
            "overflow_y": null,
            "padding": null,
            "right": null,
            "top": null,
            "visibility": null,
            "width": null
          }
        },
        "2d88948dada64c2e8f666ed61f324d8c": {
          "model_module": "@jupyter-widgets/base",
          "model_name": "LayoutModel",
          "model_module_version": "1.2.0",
          "state": {
            "_model_module": "@jupyter-widgets/base",
            "_model_module_version": "1.2.0",
            "_model_name": "LayoutModel",
            "_view_count": null,
            "_view_module": "@jupyter-widgets/base",
            "_view_module_version": "1.2.0",
            "_view_name": "LayoutView",
            "align_content": null,
            "align_items": null,
            "align_self": null,
            "border": null,
            "bottom": null,
            "display": null,
            "flex": null,
            "flex_flow": null,
            "grid_area": null,
            "grid_auto_columns": null,
            "grid_auto_flow": null,
            "grid_auto_rows": null,
            "grid_column": null,
            "grid_gap": null,
            "grid_row": null,
            "grid_template_areas": null,
            "grid_template_columns": null,
            "grid_template_rows": null,
            "height": null,
            "justify_content": null,
            "justify_items": null,
            "left": null,
            "margin": null,
            "max_height": null,
            "max_width": null,
            "min_height": null,
            "min_width": null,
            "object_fit": null,
            "object_position": null,
            "order": null,
            "overflow": null,
            "overflow_x": null,
            "overflow_y": null,
            "padding": null,
            "right": null,
            "top": null,
            "visibility": null,
            "width": null
          }
        },
        "c7980eee5d0e4b27b7cd8980b0a38197": {
          "model_module": "@jupyter-widgets/controls",
          "model_name": "DescriptionStyleModel",
          "model_module_version": "1.5.0",
          "state": {
            "_model_module": "@jupyter-widgets/controls",
            "_model_module_version": "1.5.0",
            "_model_name": "DescriptionStyleModel",
            "_view_count": null,
            "_view_module": "@jupyter-widgets/base",
            "_view_module_version": "1.2.0",
            "_view_name": "StyleView",
            "description_width": ""
          }
        },
        "40eade521d734a849d0e52fe6af2b91d": {
          "model_module": "@jupyter-widgets/base",
          "model_name": "LayoutModel",
          "model_module_version": "1.2.0",
          "state": {
            "_model_module": "@jupyter-widgets/base",
            "_model_module_version": "1.2.0",
            "_model_name": "LayoutModel",
            "_view_count": null,
            "_view_module": "@jupyter-widgets/base",
            "_view_module_version": "1.2.0",
            "_view_name": "LayoutView",
            "align_content": null,
            "align_items": null,
            "align_self": null,
            "border": null,
            "bottom": null,
            "display": null,
            "flex": null,
            "flex_flow": null,
            "grid_area": null,
            "grid_auto_columns": null,
            "grid_auto_flow": null,
            "grid_auto_rows": null,
            "grid_column": null,
            "grid_gap": null,
            "grid_row": null,
            "grid_template_areas": null,
            "grid_template_columns": null,
            "grid_template_rows": null,
            "height": null,
            "justify_content": null,
            "justify_items": null,
            "left": null,
            "margin": null,
            "max_height": null,
            "max_width": null,
            "min_height": null,
            "min_width": null,
            "object_fit": null,
            "object_position": null,
            "order": null,
            "overflow": null,
            "overflow_x": null,
            "overflow_y": null,
            "padding": null,
            "right": null,
            "top": null,
            "visibility": null,
            "width": null
          }
        },
        "72d1a38a3b3c435f88c9fee9f3215c1d": {
          "model_module": "@jupyter-widgets/controls",
          "model_name": "ProgressStyleModel",
          "model_module_version": "1.5.0",
          "state": {
            "_model_module": "@jupyter-widgets/controls",
            "_model_module_version": "1.5.0",
            "_model_name": "ProgressStyleModel",
            "_view_count": null,
            "_view_module": "@jupyter-widgets/base",
            "_view_module_version": "1.2.0",
            "_view_name": "StyleView",
            "bar_color": null,
            "description_width": ""
          }
        },
        "3020ef14776f4a1f8aeb922e7a6ed17a": {
          "model_module": "@jupyter-widgets/base",
          "model_name": "LayoutModel",
          "model_module_version": "1.2.0",
          "state": {
            "_model_module": "@jupyter-widgets/base",
            "_model_module_version": "1.2.0",
            "_model_name": "LayoutModel",
            "_view_count": null,
            "_view_module": "@jupyter-widgets/base",
            "_view_module_version": "1.2.0",
            "_view_name": "LayoutView",
            "align_content": null,
            "align_items": null,
            "align_self": null,
            "border": null,
            "bottom": null,
            "display": null,
            "flex": null,
            "flex_flow": null,
            "grid_area": null,
            "grid_auto_columns": null,
            "grid_auto_flow": null,
            "grid_auto_rows": null,
            "grid_column": null,
            "grid_gap": null,
            "grid_row": null,
            "grid_template_areas": null,
            "grid_template_columns": null,
            "grid_template_rows": null,
            "height": null,
            "justify_content": null,
            "justify_items": null,
            "left": null,
            "margin": null,
            "max_height": null,
            "max_width": null,
            "min_height": null,
            "min_width": null,
            "object_fit": null,
            "object_position": null,
            "order": null,
            "overflow": null,
            "overflow_x": null,
            "overflow_y": null,
            "padding": null,
            "right": null,
            "top": null,
            "visibility": null,
            "width": null
          }
        },
        "fa21680bfb68403f8fcfde3fa0a55f65": {
          "model_module": "@jupyter-widgets/controls",
          "model_name": "DescriptionStyleModel",
          "model_module_version": "1.5.0",
          "state": {
            "_model_module": "@jupyter-widgets/controls",
            "_model_module_version": "1.5.0",
            "_model_name": "DescriptionStyleModel",
            "_view_count": null,
            "_view_module": "@jupyter-widgets/base",
            "_view_module_version": "1.2.0",
            "_view_name": "StyleView",
            "description_width": ""
          }
        },
        "f1b2bc0c11f94df89baac1581d6ff4af": {
          "model_module": "@jupyter-widgets/controls",
          "model_name": "HBoxModel",
          "model_module_version": "1.5.0",
          "state": {
            "_dom_classes": [],
            "_model_module": "@jupyter-widgets/controls",
            "_model_module_version": "1.5.0",
            "_model_name": "HBoxModel",
            "_view_count": null,
            "_view_module": "@jupyter-widgets/controls",
            "_view_module_version": "1.5.0",
            "_view_name": "HBoxView",
            "box_style": "",
            "children": [
              "IPY_MODEL_f9c9b70493c44f76a2f3df4633452db8",
              "IPY_MODEL_eda824426ccd4091b3f68309afa3662e",
              "IPY_MODEL_c244a837269d4607b5d9228bd88c2a62"
            ],
            "layout": "IPY_MODEL_61028a8f8834473f95518fb1d24914bd"
          }
        },
        "f9c9b70493c44f76a2f3df4633452db8": {
          "model_module": "@jupyter-widgets/controls",
          "model_name": "HTMLModel",
          "model_module_version": "1.5.0",
          "state": {
            "_dom_classes": [],
            "_model_module": "@jupyter-widgets/controls",
            "_model_module_version": "1.5.0",
            "_model_name": "HTMLModel",
            "_view_count": null,
            "_view_module": "@jupyter-widgets/controls",
            "_view_module_version": "1.5.0",
            "_view_name": "HTMLView",
            "description": "",
            "description_tooltip": null,
            "layout": "IPY_MODEL_bc5dd3c209f542fcad2fe874850de87a",
            "placeholder": "​",
            "style": "IPY_MODEL_28f963d83f094716b5905c4517fa8ac2",
            "value": "Downloading model.safetensors: 100%"
          }
        },
        "eda824426ccd4091b3f68309afa3662e": {
          "model_module": "@jupyter-widgets/controls",
          "model_name": "FloatProgressModel",
          "model_module_version": "1.5.0",
          "state": {
            "_dom_classes": [],
            "_model_module": "@jupyter-widgets/controls",
            "_model_module_version": "1.5.0",
            "_model_name": "FloatProgressModel",
            "_view_count": null,
            "_view_module": "@jupyter-widgets/controls",
            "_view_module_version": "1.5.0",
            "_view_name": "ProgressView",
            "bar_style": "success",
            "description": "",
            "description_tooltip": null,
            "layout": "IPY_MODEL_7e1ffd2bc042447fa0c9143c40e776e0",
            "max": 440449768,
            "min": 0,
            "orientation": "horizontal",
            "style": "IPY_MODEL_40b7b4336a674569be14e2c472cb0293",
            "value": 440449768
          }
        },
        "c244a837269d4607b5d9228bd88c2a62": {
          "model_module": "@jupyter-widgets/controls",
          "model_name": "HTMLModel",
          "model_module_version": "1.5.0",
          "state": {
            "_dom_classes": [],
            "_model_module": "@jupyter-widgets/controls",
            "_model_module_version": "1.5.0",
            "_model_name": "HTMLModel",
            "_view_count": null,
            "_view_module": "@jupyter-widgets/controls",
            "_view_module_version": "1.5.0",
            "_view_name": "HTMLView",
            "description": "",
            "description_tooltip": null,
            "layout": "IPY_MODEL_a8d0602046af42e1970cd8f83924612f",
            "placeholder": "​",
            "style": "IPY_MODEL_3ca7fec2285446d28f4e5931a736717e",
            "value": " 440M/440M [00:04&lt;00:00, 118MB/s]"
          }
        },
        "61028a8f8834473f95518fb1d24914bd": {
          "model_module": "@jupyter-widgets/base",
          "model_name": "LayoutModel",
          "model_module_version": "1.2.0",
          "state": {
            "_model_module": "@jupyter-widgets/base",
            "_model_module_version": "1.2.0",
            "_model_name": "LayoutModel",
            "_view_count": null,
            "_view_module": "@jupyter-widgets/base",
            "_view_module_version": "1.2.0",
            "_view_name": "LayoutView",
            "align_content": null,
            "align_items": null,
            "align_self": null,
            "border": null,
            "bottom": null,
            "display": null,
            "flex": null,
            "flex_flow": null,
            "grid_area": null,
            "grid_auto_columns": null,
            "grid_auto_flow": null,
            "grid_auto_rows": null,
            "grid_column": null,
            "grid_gap": null,
            "grid_row": null,
            "grid_template_areas": null,
            "grid_template_columns": null,
            "grid_template_rows": null,
            "height": null,
            "justify_content": null,
            "justify_items": null,
            "left": null,
            "margin": null,
            "max_height": null,
            "max_width": null,
            "min_height": null,
            "min_width": null,
            "object_fit": null,
            "object_position": null,
            "order": null,
            "overflow": null,
            "overflow_x": null,
            "overflow_y": null,
            "padding": null,
            "right": null,
            "top": null,
            "visibility": null,
            "width": null
          }
        },
        "bc5dd3c209f542fcad2fe874850de87a": {
          "model_module": "@jupyter-widgets/base",
          "model_name": "LayoutModel",
          "model_module_version": "1.2.0",
          "state": {
            "_model_module": "@jupyter-widgets/base",
            "_model_module_version": "1.2.0",
            "_model_name": "LayoutModel",
            "_view_count": null,
            "_view_module": "@jupyter-widgets/base",
            "_view_module_version": "1.2.0",
            "_view_name": "LayoutView",
            "align_content": null,
            "align_items": null,
            "align_self": null,
            "border": null,
            "bottom": null,
            "display": null,
            "flex": null,
            "flex_flow": null,
            "grid_area": null,
            "grid_auto_columns": null,
            "grid_auto_flow": null,
            "grid_auto_rows": null,
            "grid_column": null,
            "grid_gap": null,
            "grid_row": null,
            "grid_template_areas": null,
            "grid_template_columns": null,
            "grid_template_rows": null,
            "height": null,
            "justify_content": null,
            "justify_items": null,
            "left": null,
            "margin": null,
            "max_height": null,
            "max_width": null,
            "min_height": null,
            "min_width": null,
            "object_fit": null,
            "object_position": null,
            "order": null,
            "overflow": null,
            "overflow_x": null,
            "overflow_y": null,
            "padding": null,
            "right": null,
            "top": null,
            "visibility": null,
            "width": null
          }
        },
        "28f963d83f094716b5905c4517fa8ac2": {
          "model_module": "@jupyter-widgets/controls",
          "model_name": "DescriptionStyleModel",
          "model_module_version": "1.5.0",
          "state": {
            "_model_module": "@jupyter-widgets/controls",
            "_model_module_version": "1.5.0",
            "_model_name": "DescriptionStyleModel",
            "_view_count": null,
            "_view_module": "@jupyter-widgets/base",
            "_view_module_version": "1.2.0",
            "_view_name": "StyleView",
            "description_width": ""
          }
        },
        "7e1ffd2bc042447fa0c9143c40e776e0": {
          "model_module": "@jupyter-widgets/base",
          "model_name": "LayoutModel",
          "model_module_version": "1.2.0",
          "state": {
            "_model_module": "@jupyter-widgets/base",
            "_model_module_version": "1.2.0",
            "_model_name": "LayoutModel",
            "_view_count": null,
            "_view_module": "@jupyter-widgets/base",
            "_view_module_version": "1.2.0",
            "_view_name": "LayoutView",
            "align_content": null,
            "align_items": null,
            "align_self": null,
            "border": null,
            "bottom": null,
            "display": null,
            "flex": null,
            "flex_flow": null,
            "grid_area": null,
            "grid_auto_columns": null,
            "grid_auto_flow": null,
            "grid_auto_rows": null,
            "grid_column": null,
            "grid_gap": null,
            "grid_row": null,
            "grid_template_areas": null,
            "grid_template_columns": null,
            "grid_template_rows": null,
            "height": null,
            "justify_content": null,
            "justify_items": null,
            "left": null,
            "margin": null,
            "max_height": null,
            "max_width": null,
            "min_height": null,
            "min_width": null,
            "object_fit": null,
            "object_position": null,
            "order": null,
            "overflow": null,
            "overflow_x": null,
            "overflow_y": null,
            "padding": null,
            "right": null,
            "top": null,
            "visibility": null,
            "width": null
          }
        },
        "40b7b4336a674569be14e2c472cb0293": {
          "model_module": "@jupyter-widgets/controls",
          "model_name": "ProgressStyleModel",
          "model_module_version": "1.5.0",
          "state": {
            "_model_module": "@jupyter-widgets/controls",
            "_model_module_version": "1.5.0",
            "_model_name": "ProgressStyleModel",
            "_view_count": null,
            "_view_module": "@jupyter-widgets/base",
            "_view_module_version": "1.2.0",
            "_view_name": "StyleView",
            "bar_color": null,
            "description_width": ""
          }
        },
        "a8d0602046af42e1970cd8f83924612f": {
          "model_module": "@jupyter-widgets/base",
          "model_name": "LayoutModel",
          "model_module_version": "1.2.0",
          "state": {
            "_model_module": "@jupyter-widgets/base",
            "_model_module_version": "1.2.0",
            "_model_name": "LayoutModel",
            "_view_count": null,
            "_view_module": "@jupyter-widgets/base",
            "_view_module_version": "1.2.0",
            "_view_name": "LayoutView",
            "align_content": null,
            "align_items": null,
            "align_self": null,
            "border": null,
            "bottom": null,
            "display": null,
            "flex": null,
            "flex_flow": null,
            "grid_area": null,
            "grid_auto_columns": null,
            "grid_auto_flow": null,
            "grid_auto_rows": null,
            "grid_column": null,
            "grid_gap": null,
            "grid_row": null,
            "grid_template_areas": null,
            "grid_template_columns": null,
            "grid_template_rows": null,
            "height": null,
            "justify_content": null,
            "justify_items": null,
            "left": null,
            "margin": null,
            "max_height": null,
            "max_width": null,
            "min_height": null,
            "min_width": null,
            "object_fit": null,
            "object_position": null,
            "order": null,
            "overflow": null,
            "overflow_x": null,
            "overflow_y": null,
            "padding": null,
            "right": null,
            "top": null,
            "visibility": null,
            "width": null
          }
        },
        "3ca7fec2285446d28f4e5931a736717e": {
          "model_module": "@jupyter-widgets/controls",
          "model_name": "DescriptionStyleModel",
          "model_module_version": "1.5.0",
          "state": {
            "_model_module": "@jupyter-widgets/controls",
            "_model_module_version": "1.5.0",
            "_model_name": "DescriptionStyleModel",
            "_view_count": null,
            "_view_module": "@jupyter-widgets/base",
            "_view_module_version": "1.2.0",
            "_view_name": "StyleView",
            "description_width": ""
          }
        }
      }
    }
  },
  "nbformat": 4,
  "nbformat_minor": 0
}